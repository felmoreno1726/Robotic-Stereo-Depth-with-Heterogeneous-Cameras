{
 "cells": [
  {
   "cell_type": "code",
   "execution_count": 33,
   "metadata": {},
   "outputs": [
    {
     "name": "stdout",
     "output_type": "stream",
     "text": [
      "Current version of openCV= 4.1.1\n"
     ]
    }
   ],
   "source": [
    "import cv2 as cv\n",
    "print(\"Current version of openCV=\", cv.__version__)\n",
    "import numpy as np\n",
    "import os\n",
    "import glob"
   ]
  },
  {
   "cell_type": "code",
   "execution_count": 36,
   "metadata": {},
   "outputs": [],
   "source": [
    "# termination criteria\n",
    "criteria = (cv.TERM_CRITERIA_EPS + cv.TERM_CRITERIA_MAX_ITER, 30, 0.001)\n",
    "# prepare object points, like (0,0,0), (1,0,0), (2,0,0) ....,(6,5,0)\n",
    "points_per_row = 6\n",
    "points_per_column = 10\n",
    "objp = np.zeros((points_per_column*points_per_row,3), np.float32)\n",
    "objp[:,:2] = np.mgrid[0:points_per_row,0:points_per_column].T.reshape(-1,2)\n",
    "# Arrays to store object points and image points from all the images.\n",
    "objpoints = [] # 3d point in real world space\n",
    "imgpoints = [] # 2d points in image plane.\n",
    "images = glob.glob('./calibration/pinhole/*.png')\n",
    "for fname in images:\n",
    "    img = cv.imread(fname)\n",
    "    gray = cv.cvtColor(img, cv.COLOR_BGR2GRAY)\n",
    "    # Find the chess board corners\n",
    "    ret, corners = cv.findChessboardCorners(gray, (points_per_row,points_per_column), None)\n",
    "    # If found, add object points, image points (after refining them)\n",
    "    if ret == True:\n",
    "        objpoints.append(objp)\n",
    "        corners2 = cv.cornerSubPix(gray,corners, (11,11), (-1,-1), criteria)\n",
    "        imgpoints.append(corners)\n",
    "        # Draw and display the corners\n",
    "        cv.drawChessboardCorners(img, (points_per_row,points_per_column), corners2, ret)\n",
    "        cv.imshow('img', img)\n",
    "        cv.waitKey(500)\n",
    "cv.destroyAllWindows()"
   ]
  },
  {
   "cell_type": "code",
   "execution_count": 37,
   "metadata": {},
   "outputs": [
    {
     "name": "stdout",
     "output_type": "stream",
     "text": [
      "ret:  0.2119902232721743\n",
      "K matrix:  [[1.08222078e+03 0.00000000e+00 6.45688878e+02]\n",
      " [0.00000000e+00 1.08587949e+03 3.57887541e+02]\n",
      " [0.00000000e+00 0.00000000e+00 1.00000000e+00]]\n",
      "D distortions:  [[ 0.02451276  0.04372337 -0.00407773  0.0011938  -0.12879966]]\n",
      "translation vecs:  [array([[ 1.01603615],\n",
      "       [ 0.82690991],\n",
      "       [34.89787641]]), array([[ 8.03480057],\n",
      "       [-0.74597336],\n",
      "       [30.31138083]]), array([[-6.24642278],\n",
      "       [-5.02851353],\n",
      "       [17.12632652]]), array([[ 6.01873571],\n",
      "       [ 0.8752473 ],\n",
      "       [34.94598391]]), array([[-0.58916855],\n",
      "       [-4.65208094],\n",
      "       [16.72415943]]), array([[ 4.26954747],\n",
      "       [-5.64863278],\n",
      "       [20.16497454]]), array([[ 2.61740492],\n",
      "       [-2.70066219],\n",
      "       [21.94410632]]), array([[-7.91072829],\n",
      "       [-3.40168314],\n",
      "       [19.62006699]]), array([[-5.11224734],\n",
      "       [ 1.25004218],\n",
      "       [34.28937066]]), array([[-8.66113782],\n",
      "       [-4.08874822],\n",
      "       [19.40342808]]), array([[ 4.38486429],\n",
      "       [-4.98538812],\n",
      "       [17.5479659 ]]), array([[ 0.81470983],\n",
      "       [-3.15097318],\n",
      "       [19.04292085]]), array([[-7.60032922],\n",
      "       [-2.96408658],\n",
      "       [23.11843394]]), array([[-7.41311965],\n",
      "       [-1.25356221],\n",
      "       [27.964558  ]]), array([[ 2.98610917],\n",
      "       [-3.29035323],\n",
      "       [20.582575  ]]), array([[-6.79428711],\n",
      "       [-0.50748306],\n",
      "       [28.3314729 ]]), array([[-9.35133793],\n",
      "       [-4.02060827],\n",
      "       [17.61748064]]), array([[-2.20305702],\n",
      "       [ 1.43241207],\n",
      "       [34.55648772]])]\n"
     ]
    }
   ],
   "source": [
    "#flags = None#cv.CALIB_RATIONAL_MODEL\n",
    "ret, mtx, dist, rvecs, tvecs = cv.calibrateCamera(objpoints, imgpoints, gray.shape[::-1], \n",
    "                                                  cameraMatrix=None, distCoeffs=None)\n",
    "print(\"ret: \", ret)\n",
    "print(\"K matrix: \", mtx)\n",
    "print(\"D distortions: \", dist)\n",
    "#print(\"rotation vecs: \", rvecs)\n",
    "print(\"translation vecs: \", tvecs)\n"
   ]
  },
  {
   "cell_type": "code",
   "execution_count": 38,
   "metadata": {},
   "outputs": [],
   "source": [
    "img_dir = 'calibration/pinhole/'\n",
    "#img_dir = 'fisheye_images/'\n",
    "img_name  = '{}.png'\n",
    "#dst_dir = 'calibration/pinhole_calibrated/'\n",
    "dst_dir = 'calibration/pinhole_calibrated/'\n",
    "for img_id in range(len(images)):\n",
    "    img = cv.imread(img_dir + img_name.format(img_id))\n",
    "    h,  w = img.shape[:2]\n",
    "    newcameramtx, roi = cv.getOptimalNewCameraMatrix(mtx, dist, (w,h), 0, (w,h))\n",
    "    # undistort\n",
    "    dst = cv.undistort(img, mtx, dist, None, newcameramtx)\n",
    "    # crop the image\n",
    "    x, y, w, h = roi\n",
    "    dst = dst[y:y+h, x:x+w]\n",
    "    cv.imshow(\"original: \", img)\n",
    "    cv.imshow(\"undistorte \",dst)\n",
    "    cv.waitKey(500)\n",
    "    cv.imwrite(dst_dir+img_name.format(img_id), dst)\n",
    "cv.destroyAllWindows()"
   ]
  },
  {
   "cell_type": "code",
   "execution_count": 39,
   "metadata": {},
   "outputs": [],
   "source": [
    "cv.destroyAllWindows()"
   ]
  }
 ],
 "metadata": {
  "kernelspec": {
   "display_name": "Python 3",
   "language": "python",
   "name": "python3"
  },
  "language_info": {
   "codemirror_mode": {
    "name": "ipython",
    "version": 3
   },
   "file_extension": ".py",
   "mimetype": "text/x-python",
   "name": "python",
   "nbconvert_exporter": "python",
   "pygments_lexer": "ipython3",
   "version": "3.7.5"
  }
 },
 "nbformat": 4,
 "nbformat_minor": 2
}
