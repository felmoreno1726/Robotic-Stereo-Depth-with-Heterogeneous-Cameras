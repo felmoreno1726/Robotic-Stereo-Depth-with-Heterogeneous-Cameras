{
 "cells": [
  {
   "cell_type": "code",
   "execution_count": 29,
   "metadata": {},
   "outputs": [
    {
     "name": "stdout",
     "output_type": "stream",
     "text": [
      "Current version of openCV= 4.1.1\n"
     ]
    }
   ],
   "source": [
    "import cv2 as cv\n",
    "print(\"Current version of openCV=\", cv.__version__)\n",
    "import numpy as np\n",
    "import os\n",
    "import glob"
   ]
  },
  {
   "cell_type": "code",
   "execution_count": 30,
   "metadata": {},
   "outputs": [],
   "source": [
    "# termination criteria\n",
    "criteria = (cv.TERM_CRITERIA_EPS + cv.TERM_CRITERIA_MAX_ITER, 30, 0.001)\n",
    "# prepare object points, like (0,0,0), (1,0,0), (2,0,0) ....,(6,5,0)\n",
    "points_per_row = 6\n",
    "points_per_column = 10\n",
    "objp = np.zeros((points_per_column*points_per_row,3), np.float32)\n",
    "objp[:,:2] = np.mgrid[0:points_per_row,0:points_per_column].T.reshape(-1,2)\n",
    "# Arrays to store object points and image points from all the images.\n",
    "objpoints = [] # 3d point in real world space\n",
    "imgpoints = [] # 2d points in image plane.\n",
    "#images = glob.glob('./calibration/pinhole/*.png')\n",
    "images = glob.glob('./calibration/fisheye/*.png')\n",
    "for fname in images:\n",
    "    img = cv.imread(fname)\n",
    "    gray = cv.cvtColor(img, cv.COLOR_BGR2GRAY)\n",
    "    # Find the chess board corners\n",
    "    ret, corners = cv.findChessboardCorners(gray, (points_per_row,points_per_column), None)\n",
    "    # If found, add object points, image points (after refining them)\n",
    "    if ret == True:\n",
    "        objpoints.append(objp)\n",
    "        corners2 = cv.cornerSubPix(gray,corners, (11,11), (-1,-1), criteria)\n",
    "        imgpoints.append(corners)\n",
    "        # Draw and display the corners\n",
    "        cv.drawChessboardCorners(img, (points_per_row,points_per_column), corners2, ret)\n",
    "        cv.imshow('img', img)\n",
    "        cv.waitKey(500)\n",
    "cv.destroyAllWindows()"
   ]
  },
  {
   "cell_type": "code",
   "execution_count": 31,
   "metadata": {},
   "outputs": [
    {
     "name": "stdout",
     "output_type": "stream",
     "text": [
      "ret:  0.16471857306147508\n",
      "K matrix:  [[774.81319236   0.         619.53074799]\n",
      " [  0.         774.97848948 362.39414286]\n",
      " [  0.           0.           1.        ]]\n",
      "D distortions:  [[-9.83575767e-01  2.16092944e+00 -1.18618369e-02 -1.19677802e-03\n",
      "  -2.30379818e+00 -9.38872359e-01  2.05546416e+00 -2.24187418e+00\n",
      "   0.00000000e+00  0.00000000e+00  0.00000000e+00  0.00000000e+00\n",
      "   0.00000000e+00  0.00000000e+00]]\n",
      "translation vecs:  [array([[-2.68652085],\n",
      "       [ 0.34410923],\n",
      "       [34.24107998]]), array([[ 4.36598231],\n",
      "       [-1.15697129],\n",
      "       [29.73191346]]), array([[-9.87430612],\n",
      "       [-5.28368304],\n",
      "       [16.80681039]]), array([[ 2.32905782],\n",
      "       [ 0.40264431],\n",
      "       [34.34506697]]), array([[-4.47337586],\n",
      "       [-4.74745944],\n",
      "       [16.13103069]]), array([[ 0.53724635],\n",
      "       [-5.92307015],\n",
      "       [19.81079552]]), array([[-0.97182916],\n",
      "       [-3.0146015 ],\n",
      "       [21.45750921]]), array([[-14.9647307 ],\n",
      "       [  0.63950586],\n",
      "       [ 22.40612329]]), array([[-11.54572361],\n",
      "       [ -3.67781487],\n",
      "       [ 19.17294599]]), array([[-8.7570368 ],\n",
      "       [ 0.83098114],\n",
      "       [33.75780099]]), array([[-12.23041131],\n",
      "       [ -4.09821999],\n",
      "       [ 18.63110571]]), array([[ 0.77284514],\n",
      "       [-5.25127631],\n",
      "       [17.20877617]]), array([[ 4.67496982],\n",
      "       [-2.44736259],\n",
      "       [21.75693724]]), array([[-2.79910705],\n",
      "       [-3.40588521],\n",
      "       [18.66541011]]), array([[-11.2447106 ],\n",
      "       [ -3.29358336],\n",
      "       [ 22.60946158]]), array([[-11.06955391],\n",
      "       [ -1.6085795 ],\n",
      "       [ 27.50444447]]), array([[10.66605586],\n",
      "       [-0.55672905],\n",
      "       [21.38281745]]), array([[-12.13125166],\n",
      "       [ -1.82832213],\n",
      "       [ 17.65666081]]), array([[-0.6157756 ],\n",
      "       [-3.5196938 ],\n",
      "       [20.22179335]]), array([[-10.48895366],\n",
      "       [ -0.91528445],\n",
      "       [ 27.78545581]]), array([[-7.27384077],\n",
      "       [-2.29232259],\n",
      "       [19.69294302]]), array([[ 4.75543198],\n",
      "       [-2.31474549],\n",
      "       [23.29687502]]), array([[-4.06634391],\n",
      "       [-1.48025116],\n",
      "       [22.58086868]]), array([[-10.11246651],\n",
      "       [ -1.06767358],\n",
      "       [ 21.38093938]]), array([[-13.04806552],\n",
      "       [ -4.2566886 ],\n",
      "       [ 17.10970435]]), array([[-5.9347807 ],\n",
      "       [ 0.96236654],\n",
      "       [33.92248057]])]\n"
     ]
    }
   ],
   "source": [
    "flags = cv.CALIB_RATIONAL_MODEL\n",
    "ret, mtx, dist, rvecs, tvecs = cv.calibrateCamera(objpoints, imgpoints, gray.shape[::-1], \n",
    "                                                  cameraMatrix=None, distCoeffs=None, flags=flags)\n",
    "print(\"ret: \", ret)\n",
    "print(\"K matrix: \", mtx)\n",
    "print(\"D distortions: \", dist)\n",
    "#print(\"rotation vecs: \", rvecs)\n",
    "print(\"translation vecs: \", tvecs)\n"
   ]
  },
  {
   "cell_type": "code",
   "execution_count": 32,
   "metadata": {},
   "outputs": [],
   "source": [
    "img_dir = 'calibration/fisheye/'\n",
    "#img_dir = 'fisheye_images/'\n",
    "img_name  = '{}.png'\n",
    "#dst_dir = 'calibration/pinhole_calibrated/'\n",
    "dst_dir = 'calibration/fisheye_calibrated/'\n",
    "for img_id in range(len(images)):\n",
    "    img = cv.imread(img_dir + img_name.format(img_id))\n",
    "    h,  w = img.shape[:2]\n",
    "    newcameramtx, roi = cv.getOptimalNewCameraMatrix(mtx, dist, (w,h), 0, (w,h))\n",
    "    # undistort\n",
    "    dst = cv.undistort(img, mtx, dist, None, newcameramtx)\n",
    "    # crop the image\n",
    "    x, y, w, h = roi\n",
    "    dst = dst[y:y+h, x:x+w]\n",
    "    cv.imshow(\"original: \", img)\n",
    "    cv.imshow(\"undistort \",dst)\n",
    "    cv.waitKey(500)\n",
    "    cv.imwrite(dst_dir+img_name.format(img_id), dst)\n",
    "cv.destroyAllWindows()"
   ]
  },
  {
   "cell_type": "code",
   "execution_count": 33,
   "metadata": {},
   "outputs": [],
   "source": [
    "cv.destroyAllWindows()"
   ]
  }
 ],
 "metadata": {
  "kernelspec": {
   "display_name": "Python 3",
   "language": "python",
   "name": "python3"
  },
  "language_info": {
   "codemirror_mode": {
    "name": "ipython",
    "version": 3
   },
   "file_extension": ".py",
   "mimetype": "text/x-python",
   "name": "python",
   "nbconvert_exporter": "python",
   "pygments_lexer": "ipython3",
   "version": "3.7.5"
  }
 },
 "nbformat": 4,
 "nbformat_minor": 2
}
