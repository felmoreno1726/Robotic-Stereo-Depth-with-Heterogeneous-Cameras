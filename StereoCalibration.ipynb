{
 "cells": [
  {
   "cell_type": "code",
   "execution_count": 175,
   "metadata": {},
   "outputs": [
    {
     "name": "stdout",
     "output_type": "stream",
     "text": [
      "Current version of openCV= 4.1.1\n"
     ]
    }
   ],
   "source": [
    "import cv2 as cv\n",
    "print(\"Current version of openCV=\", cv.__version__)\n",
    "import numpy as np\n",
    "import os\n",
    "import glob"
   ]
  },
  {
   "cell_type": "code",
   "execution_count": 176,
   "metadata": {},
   "outputs": [],
   "source": [
    "left_calibration_path = './calibration/fisheye_calibrated/{}.png'\n",
    "right_calibration_path ='./calibration/pinhole_calibrated/{}.png'"
   ]
  },
  {
   "cell_type": "code",
   "execution_count": 177,
   "metadata": {},
   "outputs": [],
   "source": [
    "# termination criteria\n",
    "criteria = (cv.TERM_CRITERIA_EPS + cv.TERM_CRITERIA_MAX_ITER, 30, 0.001)\n",
    "# prepare object points, like (0,0,0), (1,0,0), (2,0,0) ....,(6,5,0)\n",
    "points_per_row = 6\n",
    "points_per_column = 10\n",
    "objp = np.zeros((points_per_column*points_per_row,3), np.float32)\n",
    "objp[:,:2] = np.mgrid[0:points_per_row,0:points_per_column].T.reshape(-1,2)\n",
    "# Arrays to store object points and image points from all the images.\n",
    "objpoints = [] # 3d point in real world space\n",
    "imgpointsL = [] # 2d points in Right image plane.\n",
    "imgpointsR = [] # 2d points in Left image plane.\n",
    "imagesL = glob.glob(left_calibration_path.format('*'))\n",
    "imagesR = glob.glob(right_calibration_path.format('*'))\n",
    "for img_id in range(len(imagesR)):\n",
    "    fnameL = left_calibration_path.format(img_id)\n",
    "    fnameR = right_calibration_path.format(img_id)\n",
    "    imgL = cv.imread(fnameL)\n",
    "    imgR = cv.imread(fnameR)\n",
    "    grayL = cv.cvtColor(imgL, cv.COLOR_BGR2GRAY)\n",
    "    grayR = cv.cvtColor(imgR, cv.COLOR_BGR2GRAY)\n",
    "    # Find the chess board corners\n",
    "    retL, cornersL = cv.findChessboardCorners(grayL, (points_per_row,points_per_column), None)\n",
    "    retR, cornersR = cv.findChessboardCorners(grayR, (points_per_row,points_per_column), None)\n",
    "    # If found on both, add object points, image points (after refining them)\n",
    "    if retL == True and retR == True:\n",
    "        objpoints.append(objp)\n",
    "        corners2L = cv.cornerSubPix(grayL,cornersL, (11,11), (-1,-1), criteria)\n",
    "        corners2R = cv.cornerSubPix(grayR,cornersR, (11,11), (-1,-1), criteria)\n",
    "        imgpointsL.append(cornersL)\n",
    "        imgpointsR.append(cornersR)\n",
    "        # Draw and display the corners\n",
    "        cv.drawChessboardCorners(imgL, (points_per_row,points_per_column), corners2L, retL)\n",
    "        cv.drawChessboardCorners(imgR, (points_per_row,points_per_column), corners2R, retR)\n",
    "        cv.imshow('img', imgL)\n",
    "        cv.waitKey(500)\n",
    "        cv.imshow('img', imgR)\n",
    "        cv.waitKey(500)\n",
    "cv.destroyAllWindows()"
   ]
  },
  {
   "cell_type": "code",
   "execution_count": 287,
   "metadata": {},
   "outputs": [
    {
     "name": "stdout",
     "output_type": "stream",
     "text": [
      "720 1280\n"
     ]
    }
   ],
   "source": [
    "img = cv.imread(left_calibration_path.format(img_id))\n",
    "width, height = img.shape[:-1]\n",
    "R = None\n",
    "T = None\n",
    "E = None\n",
    "F = None\n",
    "stereocalib_criteria = (cv.TERM_CRITERIA_MAX_ITER | cv.TERM_CRITERIA_EPS, 100, 1e-5)\n",
    "#This flag decreases the accuracy but now the results match better... it is probably better for the 3d reconstruct to be on\n",
    "stereocalib_flags = cv.CALIB_RATIONAL_MODEL | \\\n",
    "cv.CALIB_SAME_FOCAL_LENGTH | \\\n",
    "cv.CALIB_ZERO_TANGENT_DIST \n",
    "cv.CALIB_FIX_ASPECT_RATIO \n",
    "cv.CALIB_FIX_K3 | \\\n",
    "cv.CALIB_FIX_K4 | \\\n",
    "cv.CALIB_FIX_K5 \n",
    "print(width, height)\n",
    "retval, KL, DL, KR, DR, R, T, E, F = \\\n",
    " cv.stereoCalibrate(objpoints, imgpointsL, imgpointsR,\n",
    "                                #imageSize = (width, height),\n",
    "                                imageSize = (height, width),\n",
    "                                cameraMatrix1 = None,\n",
    "                                distCoeffs1 = None,\n",
    "                                cameraMatrix2 = None,\n",
    "                                distCoeffs2 = None,\n",
    "                                R=R,\n",
    "                                T=T,\n",
    "                                E=E,\n",
    "                                F=F,\n",
    "                                #flags=cv.CALIB_FIX_INTRINSIC\n",
    "                                flags=stereocalib_flags,\n",
    "                                criteria=stereocalib_criteria\n",
    "                   )"
   ]
  },
  {
   "cell_type": "code",
   "execution_count": 288,
   "metadata": {},
   "outputs": [
    {
     "name": "stdout",
     "output_type": "stream",
     "text": [
      "3.1991655665973475\n",
      "cameraM1: \n",
      " [[797.78882436   0.         718.40941085]\n",
      " [  0.         796.53894865 393.57071754]\n",
      " [  0.           0.           1.        ]]\n",
      "distCoeffs1: \n",
      " [[ -6.20343413  22.07957474   0.           0.         -14.63131817\n",
      "   -6.17944726  22.06311045 -14.56434341   0.           0.\n",
      "    0.           0.           0.           0.        ]]\n",
      "cameraM2: \n",
      " [[797.78882436   0.         628.22801221]\n",
      " [  0.         796.53894865 339.19631041]\n",
      " [  0.           0.           1.        ]]\n",
      "distCoeffs2: \n",
      " [[107.85465794 878.13274551   0.           0.         469.29840536\n",
      "   90.49919797 794.54394693 409.58038284   0.           0.\n",
      "    0.           0.           0.           0.        ]]\n",
      "R:  [[ 0.99998129 -0.00367373  0.00489189]\n",
      " [ 0.00364551  0.99997673  0.00576601]\n",
      " [-0.00491295 -0.00574806  0.99997141]]\n",
      "T:  [[ 3.64423844]\n",
      " [-0.08601046]\n",
      " [-0.01266609]]\n",
      "E:  [[ 4.68739856e-04  1.31601902e-02 -8.59349731e-02]\n",
      " [ 5.23812515e-03  2.09938475e-02 -3.64419622e+00]\n",
      " [ 9.92939495e-02  3.64383767e+00  2.14334514e-02]]\n",
      "F:  [[-3.10722002e-09 -8.73742018e-08  4.91082647e-04]\n",
      " [-3.47773853e-08 -1.39602767e-07  1.93823034e-02]\n",
      " [-5.11362285e-04 -1.91982326e-02  1.00000000e+00]]\n"
     ]
    }
   ],
   "source": [
    "print(retval)\n",
    "print(\"cameraM1: \\n\", KL)\n",
    "print(\"distCoeffs1: \\n\", DL)\n",
    "print(\"cameraM2: \\n\", KR)\n",
    "print(\"distCoeffs2: \\n\", DR)\n",
    "print(\"R: \", R)\n",
    "print(\"T: \", T)\n",
    "print(\"E: \", E)\n",
    "print(\"F: \", F)"
   ]
  },
  {
   "cell_type": "code",
   "execution_count": 277,
   "metadata": {},
   "outputs": [
    {
     "name": "stdout",
     "output_type": "stream",
     "text": [
      "720 1280\n"
     ]
    }
   ],
   "source": [
    "img_size = imgL.shape[:2]\n",
    "alpha = 0 ### =0 crop, =1 keep dimensions\n",
    "print(width, height)\n",
    "\n",
    "RL = np.zeros(shape=(3,3))\n",
    "RR = np.zeros(shape=(3,3))\n",
    "PL = np.zeros(shape=(3,4))\n",
    "PR = np.zeros(shape=(3,4))\n",
    "\n",
    "\"\"\"out = cv.stereoRectify(KL, DL, KR, DR, (width, height), R=R, T=T, \n",
    "                       R1=RL, R2=RR, P1=PL, P2=PR,\n",
    "                      Q=None, flags=cv.CALIB_ZERO_DISPARITY, alpha=alpha, newImageSize=(0,0))\n",
    "\"\"\"\n",
    "RL, RR, PL, PR, Q, roiL, roiR = cv.stereoRectify(KL, \n",
    "                                                 DL, \n",
    "                                                 KR, \n",
    "                                                 DR, \n",
    "                                                 (height, width), \n",
    "                                                 R=R, \n",
    "                                                 T=T, \n",
    "                                                 alpha=alpha)"
   ]
  },
  {
   "cell_type": "code",
   "execution_count": 278,
   "metadata": {},
   "outputs": [
    {
     "name": "stdout",
     "output_type": "stream",
     "text": [
      "RL: \n",
      " [[ 0.99962791 -0.02724722  0.00127989]\n",
      " [ 0.02724338  0.99962454  0.00292818]\n",
      " [-0.00135919 -0.00289222  0.99999489]]\n",
      "RR: \n",
      " [[ 0.99971556 -0.02359505 -0.00347466]\n",
      " [ 0.02358484  0.99971748 -0.00295166]\n",
      " [ 0.00354332  0.00286887  0.99998961]]\n",
      "PL: \n",
      " [[1.01729403e+03 0.00000000e+00 6.85404419e+02 0.00000000e+00]\n",
      " [0.00000000e+00 1.01729403e+03 3.70340416e+02 0.00000000e+00]\n",
      " [0.00000000e+00 0.00000000e+00 1.00000000e+00 0.00000000e+00]]\n",
      "RR: \n",
      " [[1.01729403e+03 0.00000000e+00 6.85404419e+02 3.70831682e+03]\n",
      " [0.00000000e+00 1.01729403e+03 3.70340416e+02 0.00000000e+00]\n",
      " [0.00000000e+00 0.00000000e+00 1.00000000e+00 0.00000000e+00]]\n",
      "Q:  [[ 1.00000000e+00  0.00000000e+00  0.00000000e+00 -6.85404419e+02]\n",
      " [ 0.00000000e+00  1.00000000e+00  0.00000000e+00 -3.70340416e+02]\n",
      " [ 0.00000000e+00  0.00000000e+00  0.00000000e+00  1.01729403e+03]\n",
      " [ 0.00000000e+00  0.00000000e+00 -2.74327703e-01  0.00000000e+00]]\n",
      "roiL: \n",
      " (0, 0, 1280, 720)\n",
      "roiR: \n",
      " (0, 0, 1280, 720)\n"
     ]
    }
   ],
   "source": [
    "print(\"RL: \\n\", RL)\n",
    "print(\"RR: \\n\", RR)\n",
    "print(\"PL: \\n\", PL)\n",
    "print(\"RR: \\n\", PR)\n",
    "print(\"Q: \", Q)\n",
    "print(\"roiL: \\n\", roiL)\n",
    "print(\"roiR: \\n\", roiR)\n"
   ]
  },
  {
   "cell_type": "code",
   "execution_count": 279,
   "metadata": {},
   "outputs": [
    {
     "name": "stdout",
     "output_type": "stream",
     "text": [
      "Applying Undistort\n",
      "\n",
      "Undistort complete\n",
      "\n",
      "Maps1: \n",
      " [[ 177.00061  177.76949  178.53848 ... 1168.777   1169.5513  1170.3256 ]\n",
      " [ 177.01857  177.7875   178.55655 ... 1168.7977  1169.572   1170.3463 ]\n",
      " [ 177.03658  177.80556  178.57466 ... 1168.8184  1169.5928  1170.3672 ]\n",
      " ...\n",
      " [ 193.13321  193.90231  194.67152 ... 1183.0083  1183.7819  1184.5554 ]\n",
      " [ 193.1594   193.92847  194.69763 ... 1183.0277  1183.8013  1184.5747 ]\n",
      " [ 193.18562  193.95464  194.72375 ... 1183.0471  1183.8207  1184.5941 ]] [[118.51232  118.4871   118.461914 ...  91.733     91.7132    91.693436]\n",
      " [119.286385 119.26119  119.236046 ...  92.5084    92.48858   92.46879 ]\n",
      " [120.06047  120.03532  120.0102   ...  93.283806  93.26397   93.244156]\n",
      " ...\n",
      " [674.1691   674.1514   674.1337   ... 646.98     646.9582   646.9364  ]\n",
      " [674.9407   674.92303  674.90533  ... 647.75256  647.73083  647.70905 ]\n",
      " [675.7122   675.6946   675.67694  ... 648.5252   648.5034   648.48157 ]]\n",
      "Maps2: \n",
      " [[  21.55909    22.43064    23.302172 ... 1146.185    1147.0629\n",
      "  1147.9406  ]\n",
      " [  21.57541    22.446943   23.318457 ... 1146.2118   1147.0896\n",
      "  1147.9673  ]\n",
      " [  21.591726   22.46324    23.334736 ... 1146.2386   1147.1163\n",
      "  1147.994   ]\n",
      " ...\n",
      " [  35.152855   36.026073   36.899277 ... 1162.305    1163.1841\n",
      "  1164.0631  ]\n",
      " [  35.17458    36.04782    36.921047 ... 1162.3229   1163.2019\n",
      "  1164.0809  ]\n",
      " [  35.1963     36.069565   36.942814 ... 1162.3406   1163.2197\n",
      "  1164.0988  ]] [[ 31.094034   31.06977    31.04549   ...   2.8905504   2.8732626\n",
      "    2.85595  ]\n",
      " [ 31.968977   31.944712   31.920427  ...   3.768512    3.751235\n",
      "    3.7339332]\n",
      " [ 32.84393    32.81966    32.795376  ...   4.6464896   4.629223\n",
      "    4.611932 ]\n",
      " ...\n",
      " [660.7143    660.6975    660.68066   ... 635.7998    635.7756\n",
      "  635.75134  ]\n",
      " [661.59283   661.576     661.5592    ... 636.6818    636.6576\n",
      "  636.63336  ]\n",
      " [662.4714    662.4545    662.43774   ... 637.56384   637.5396\n",
      "  637.5154   ]]\n",
      "fname:  ./calibration/fisheye_calibrated/10.png ./calibration/pinhole_calibrated/10.png\n"
     ]
    }
   ],
   "source": [
    "print(\"Applying Undistort\\n\")\n",
    "#map1x, map1y = cv.initUndistortRectifyMap(KL, DL, RL, PL, (width, height), cv.CV_32FC1)\n",
    "#map2x, map2y = cv.initUndistortRectifyMap(KR, DR, RR, PR, (width, height), cv.CV_32FC1)\n",
    "\n",
    "map1x, map1y = cv.initUndistortRectifyMap(KL, DL, RL, PL, (height, width), cv.CV_32FC1)\n",
    "map2x, map2y = cv.initUndistortRectifyMap(KR, DR, RR, PR, (height, width), cv.CV_32FC1)\n",
    "print(\"Undistort complete\\n\")\n",
    "\n",
    "\"\"\"\n",
    "for img_id in range(len(imagesR)):\n",
    "    fnameL = left_calibration_path.format(img_id)\n",
    "    fnameR = right_calibration_path.format(img_id)\n",
    "    print(\"fname: \", fnameL, fnameR)\n",
    "    imgL = cv.imread(fnameL)\n",
    "    imgR = cv.imread(fnameR)\n",
    "    imgU1 = np.zeros((height,width,3), np.uint8)\n",
    "    imgU1 = cv.remap(imgL, map1x, map1y, cv.INTER_LINEAR, imgU1, cv.BORDER_CONSTANT, 0)\n",
    "    imgU2 = cv.remap(imgR, map2x, map2y, cv.INTER_LINEAR)\n",
    "    cv.imshow(\"imageL\", imgL);\n",
    "    cv.imshow(\"imageR\", imgR);\n",
    "    cv.imshow(\"image1L\", imgU1);\n",
    "    cv.imshow(\"image2R\", imgU2);\n",
    "    k = cv.waitKey(5);\n",
    "    if(k==27):\n",
    "        break;\n",
    "\"\"\"\n",
    "print(\"Maps1: \\n\", map1x, map1y)\n",
    "print(\"Maps2: \\n\", map2x, map2y)\n",
    "\n",
    "#image remap example\n",
    "img_id = 10\n",
    "fnameL = left_calibration_path.format(img_id)\n",
    "fnameR = right_calibration_path.format(img_id)\n",
    "print(\"fname: \", fnameL, fnameR)\n",
    "imgL = cv.imread(fnameL)\n",
    "imgR = cv.imread(fnameR)\n",
    "cv.imshow('imgL', imgL)\n",
    "cv.waitKey(500)\n",
    "\n",
    "left_img_remap = cv.remap(imgL, map1x, map1y, cv.INTER_LANCZOS4)\n",
    "right_img_remap = cv.remap(imgR, map2x, map2y, cv.INTER_LANCZOS4)"
   ]
  },
  {
   "cell_type": "code",
   "execution_count": 282,
   "metadata": {},
   "outputs": [],
   "source": [
    "cv.imshow(\"imgL remap\", left_img_remap)\n",
    "cv.imshow(\"imgR remap\", right_img_remap)\n",
    "cv.waitKey(500)\n",
    "#cv.destroyAllWindows()"
   ]
  },
  {
   "cell_type": "code",
   "execution_count": null,
   "metadata": {},
   "outputs": [],
   "source": []
  },
  {
   "cell_type": "code",
   "execution_count": null,
   "metadata": {},
   "outputs": [],
   "source": []
  }
 ],
 "metadata": {
  "kernelspec": {
   "display_name": "Python 3",
   "language": "python",
   "name": "python3"
  },
  "language_info": {
   "codemirror_mode": {
    "name": "ipython",
    "version": 3
   },
   "file_extension": ".py",
   "mimetype": "text/x-python",
   "name": "python",
   "nbconvert_exporter": "python",
   "pygments_lexer": "ipython3",
   "version": "3.7.5"
  }
 },
 "nbformat": 4,
 "nbformat_minor": 2
}
