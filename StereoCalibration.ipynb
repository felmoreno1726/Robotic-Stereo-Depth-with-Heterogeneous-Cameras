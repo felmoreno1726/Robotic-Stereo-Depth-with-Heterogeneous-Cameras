{
 "cells": [
  {
   "cell_type": "code",
   "execution_count": 175,
   "metadata": {},
   "outputs": [
    {
     "name": "stdout",
     "output_type": "stream",
     "text": [
      "Current version of openCV= 4.1.1\n"
     ]
    }
   ],
   "source": [
    "import cv2 as cv\n",
    "print(\"Current version of openCV=\", cv.__version__)\n",
    "import numpy as np\n",
    "import os\n",
    "import glob"
   ]
  },
  {
   "cell_type": "code",
   "execution_count": 176,
   "metadata": {},
   "outputs": [],
   "source": [
    "left_calibration_path = './calibration/fisheye_calibrated/{}.png'\n",
    "right_calibration_path ='./calibration/pinhole_calibrated/{}.png'"
   ]
  },
  {
   "cell_type": "code",
   "execution_count": 177,
   "metadata": {},
   "outputs": [],
   "source": [
    "# termination criteria\n",
    "criteria = (cv.TERM_CRITERIA_EPS + cv.TERM_CRITERIA_MAX_ITER, 30, 0.001)\n",
    "# prepare object points, like (0,0,0), (1,0,0), (2,0,0) ....,(6,5,0)\n",
    "points_per_row = 6\n",
    "points_per_column = 10\n",
    "objp = np.zeros((points_per_column*points_per_row,3), np.float32)\n",
    "objp[:,:2] = np.mgrid[0:points_per_row,0:points_per_column].T.reshape(-1,2)\n",
    "# Arrays to store object points and image points from all the images.\n",
    "objpoints = [] # 3d point in real world space\n",
    "imgpointsL = [] # 2d points in Right image plane.\n",
    "imgpointsR = [] # 2d points in Left image plane.\n",
    "imagesL = glob.glob(left_calibration_path.format('*'))\n",
    "imagesR = glob.glob(right_calibration_path.format('*'))\n",
    "for img_id in range(len(imagesR)):\n",
    "    fnameL = left_calibration_path.format(img_id)\n",
    "    fnameR = right_calibration_path.format(img_id)\n",
    "    imgL = cv.imread(fnameL)\n",
    "    imgR = cv.imread(fnameR)\n",
    "    grayL = cv.cvtColor(imgL, cv.COLOR_BGR2GRAY)\n",
    "    grayR = cv.cvtColor(imgR, cv.COLOR_BGR2GRAY)\n",
    "    # Find the chess board corners\n",
    "    retL, cornersL = cv.findChessboardCorners(grayL, (points_per_row,points_per_column), None)\n",
    "    retR, cornersR = cv.findChessboardCorners(grayR, (points_per_row,points_per_column), None)\n",
    "    # If found on both, add object points, image points (after refining them)\n",
    "    if retL == True and retR == True:\n",
    "        objpoints.append(objp)\n",
    "        corners2L = cv.cornerSubPix(grayL,cornersL, (11,11), (-1,-1), criteria)\n",
    "        corners2R = cv.cornerSubPix(grayR,cornersR, (11,11), (-1,-1), criteria)\n",
    "        imgpointsL.append(cornersL)\n",
    "        imgpointsR.append(cornersR)\n",
    "        # Draw and display the corners\n",
    "        cv.drawChessboardCorners(imgL, (points_per_row,points_per_column), corners2L, retL)\n",
    "        cv.drawChessboardCorners(imgR, (points_per_row,points_per_column), corners2R, retR)\n",
    "        cv.imshow('img', imgL)\n",
    "        cv.waitKey(500)\n",
    "        cv.imshow('img', imgR)\n",
    "        cv.waitKey(500)\n",
    "cv.destroyAllWindows()"
   ]
  },
  {
   "cell_type": "code",
   "execution_count": 241,
   "metadata": {},
   "outputs": [
    {
     "name": "stdout",
     "output_type": "stream",
     "text": [
      "720 1280\n"
     ]
    }
   ],
   "source": [
    "img = cv.imread(left_calibration_path.format(img_id))\n",
    "width, height = img.shape[:-1]\n",
    "R = None\n",
    "T = None\n",
    "E = None\n",
    "F = None\n",
    "stereocalib_criteria = (cv.TERM_CRITERIA_MAX_ITER | cv.TERM_CRITERIA_EPS, 100, 1e-5)\n",
    "stereocalib_flags = cv.CALIB_RATIONAL_MODEL | \\\n",
    "cv.CALIB_SAME_FOCAL_LENGTH | \\ #This flag decreases the accuracy but now the results match better... it is probably better for the 3d reconstruct to be on\n",
    "#cv.CALIB_ZERO_TANGENT_DIST \n",
    "#cv.CALIB_FIX_ASPECT_RATIO \n",
    "#cv.CALIB_FIX_K3 | \\\n",
    "#cv.CALIB_FIX_K4 | \\\n",
    "#cv.CALIB_FIX_K5 | \\\n",
    "print(width, height)\n",
    "retval, KL, DL, KR, DR, R, T, E, F = \\\n",
    " cv.stereoCalibrate(objpoints, imgpointsL, imgpointsR,\n",
    "                                #imageSize = (width, height),\n",
    "                                imageSize = (height, width),\n",
    "                                cameraMatrix1 = None,\n",
    "                                distCoeffs1 = None,\n",
    "                                cameraMatrix2 = None,\n",
    "                                distCoeffs2 = None,\n",
    "                                R=R,\n",
    "                                T=T,\n",
    "                                E=E,\n",
    "                                F=F,\n",
    "                                #flags=cv.CALIB_FIX_INTRINSIC\n",
    "                                flags=stereocalib_flags,\n",
    "                                criteria=stereocalib_criteria\n",
    "                   )"
   ]
  },
  {
   "cell_type": "code",
   "execution_count": 242,
   "metadata": {},
   "outputs": [
    {
     "name": "stdout",
     "output_type": "stream",
     "text": [
      "3.1575666183879867\n",
      "cameraM1: \n",
      " [[792.26793919   0.         706.58041355]\n",
      " [  0.         792.59631878 380.73597543]\n",
      " [  0.           0.           1.        ]]\n",
      "distCoeffs1: \n",
      " [[-6.37939819e+00  2.52521642e+01 -6.39684047e-03 -5.36138676e-03\n",
      "  -1.85070503e+01 -6.36311560e+00  2.52641441e+01 -1.84641289e+01\n",
      "   0.00000000e+00  0.00000000e+00  0.00000000e+00  0.00000000e+00\n",
      "   0.00000000e+00  0.00000000e+00]]\n",
      "cameraM2: \n",
      " [[792.26793919   0.         643.12858763]\n",
      " [  0.         792.59631878 329.23295824]\n",
      " [  0.           0.           1.        ]]\n",
      "distCoeffs2: \n",
      " [[ 1.05283236e+02  4.85168110e+02 -4.71871195e-03  5.59023243e-03\n",
      "   2.90898499e+02  8.87752341e+01  4.45286377e+02  2.48158199e+02\n",
      "   0.00000000e+00  0.00000000e+00  0.00000000e+00  0.00000000e+00\n",
      "   0.00000000e+00  0.00000000e+00]]\n",
      "R:  [[ 9.99643316e-01 -6.45007263e-03 -2.59159643e-02]\n",
      " [ 6.47184023e-03  9.99978772e-01  7.56141002e-04]\n",
      " [ 2.59105370e-02 -9.23595279e-04  9.99663839e-01]]\n",
      "T:  [[ 3.62839261]\n",
      " [-0.09282841]\n",
      " [ 0.02719998]]\n",
      "E:  [[-2.58126796e-03 -2.71136707e-02 -9.28177740e-02]\n",
      " [-6.68233185e-02  3.17572441e-03 -3.62787780e+00]\n",
      " [ 1.16277679e-01  3.62771683e+00  3.37838605e-04]]\n",
      "F:  [[ 1.36966479e-08  1.43810153e-07  3.25765971e-04]\n",
      " [ 3.54429017e-07 -1.68369750e-08  1.50009263e-02]\n",
      " [-6.14319173e-04 -1.53312172e-02  1.00000000e+00]]\n"
     ]
    }
   ],
   "source": [
    "print(retval)\n",
    "print(\"cameraM1: \\n\", KL)\n",
    "print(\"distCoeffs1: \\n\", DL)\n",
    "print(\"cameraM2: \\n\", KR)\n",
    "print(\"distCoeffs2: \\n\", DR)\n",
    "print(\"R: \", R)\n",
    "print(\"T: \", T)\n",
    "print(\"E: \", E)\n",
    "print(\"F: \", F)"
   ]
  },
  {
   "cell_type": "code",
   "execution_count": 243,
   "metadata": {},
   "outputs": [
    {
     "name": "stdout",
     "output_type": "stream",
     "text": [
      "720 1280\n"
     ]
    }
   ],
   "source": [
    "img_size = imgL.shape[:2]\n",
    "alpha = 0 ### =0 crop, =1 keep dimensions\n",
    "print(width, height)\n",
    "\n",
    "RL = np.zeros(shape=(3,3))\n",
    "RR = np.zeros(shape=(3,3))\n",
    "PL = np.zeros(shape=(3,4))\n",
    "PR = np.zeros(shape=(3,4))\n",
    "\n",
    "\"\"\"out = cv.stereoRectify(KL, DL, KR, DR, (width, height), R=R, T=T, \n",
    "                       R1=RL, R2=RR, P1=PL, P2=PR,\n",
    "                      Q=None, flags=cv.CALIB_ZERO_DISPARITY, alpha=alpha, newImageSize=(0,0))\n",
    "\"\"\"\n",
    "RL, RR, PL, PR, Q, roiL, roiR = cv.stereoRectify(KL, \n",
    "                                                 DL, \n",
    "                                                 KR, \n",
    "                                                 DR, \n",
    "                                                 (height, width), \n",
    "                                                 R=R, \n",
    "                                                 T=T, \n",
    "                                                 alpha=alpha)"
   ]
  },
  {
   "cell_type": "code",
   "execution_count": 244,
   "metadata": {},
   "outputs": [
    {
     "name": "stdout",
     "output_type": "stream",
     "text": [
      "RL: \n",
      " [[ 9.99316917e-01 -3.20289673e-02 -1.84348513e-02]\n",
      " [ 3.20334307e-02  9.99486797e-01 -5.31985776e-05]\n",
      " [ 1.84270944e-02 -5.37369295e-04  9.99830062e-01]]\n",
      "RR: \n",
      " [[ 9.99644823e-01 -2.55748073e-02  7.49376547e-03]\n",
      " [ 2.55766212e-02  9.99672854e-01 -1.46298590e-04]\n",
      " [-7.48757236e-03  3.37911829e-04  9.99971911e-01]]\n",
      "PL: \n",
      " [[1.10473981e+03 0.00000000e+00 6.54905334e+02 0.00000000e+00]\n",
      " [0.00000000e+00 1.10473981e+03 3.33511375e+02 0.00000000e+00]\n",
      " [0.00000000e+00 0.00000000e+00 1.00000000e+00 0.00000000e+00]]\n",
      "RR: \n",
      " [[1.10473981e+03 0.00000000e+00 6.54905334e+02 4.00985395e+03]\n",
      " [0.00000000e+00 1.10473981e+03 3.33511375e+02 0.00000000e+00]\n",
      " [0.00000000e+00 0.00000000e+00 1.00000000e+00 0.00000000e+00]]\n",
      "Q:  [[ 1.00000000e+00  0.00000000e+00  0.00000000e+00 -6.54905334e+02]\n",
      " [ 0.00000000e+00  1.00000000e+00  0.00000000e+00 -3.33511375e+02]\n",
      " [ 0.00000000e+00  0.00000000e+00  0.00000000e+00  1.10473981e+03]\n",
      " [ 0.00000000e+00  0.00000000e+00 -2.75506245e-01  0.00000000e+00]]\n",
      "roiL: \n",
      " (0, 0, 1280, 720)\n",
      "roiR: \n",
      " (0, 0, 1280, 720)\n"
     ]
    }
   ],
   "source": [
    "print(\"RL: \\n\", RL)\n",
    "print(\"RR: \\n\", RR)\n",
    "print(\"PL: \\n\", PL)\n",
    "print(\"RR: \\n\", PR)\n",
    "print(\"Q: \", Q)\n",
    "print(\"roiL: \\n\", roiL)\n",
    "print(\"roiR: \\n\", roiR)\n"
   ]
  },
  {
   "cell_type": "code",
   "execution_count": 245,
   "metadata": {},
   "outputs": [
    {
     "name": "stdout",
     "output_type": "stream",
     "text": [
      "Applying Undistort\n",
      "\n",
      "Undistort complete\n",
      "\n",
      "Maps1: \n",
      " [[ 246.81093  247.52002  248.22914 ... 1157.3815  1158.0944  1158.807  ]\n",
      " [ 246.84035  247.54944  248.25856 ... 1157.4027  1158.1155  1158.8282 ]\n",
      " [ 246.86978  247.57887  248.288   ... 1157.4238  1158.1366  1158.8494 ]\n",
      " ...\n",
      " [ 266.6991   267.402    268.10498 ... 1169.6444  1170.3501  1171.0558 ]\n",
      " [ 266.7254   267.4283   268.13126 ... 1169.657   1170.3627  1171.0682 ]\n",
      " [ 266.75174  267.45462  268.15753 ... 1169.6696  1170.3751  1171.0807 ]] [[156.25671  156.23654  156.21638  ... 124.65127  124.62217  124.59307 ]\n",
      " [156.97183  156.95168  156.93153  ... 125.37354  125.34443  125.31533 ]\n",
      " [157.68694  157.6668   157.64665  ... 126.095795 126.06668  126.037575]\n",
      " ...\n",
      " [662.9155   662.9015   662.8875   ... 636.3198   636.2916   636.26337 ]\n",
      " [663.61237  663.5984   663.58435  ... 637.0231   636.9948   636.96655 ]\n",
      " [664.30914  664.2952   664.28125  ... 637.72626  637.69806  637.6698  ]]\n",
      "Maps2: \n",
      " [[ 102.09547   102.88953   103.68356  ... 1136.2217   1137.0289\n",
      "  1137.8362  ]\n",
      " [ 102.11471   102.90873   103.702736 ... 1136.241    1137.0482\n",
      "  1137.8555  ]\n",
      " [ 102.13395   102.92794   103.72191  ... 1136.2604   1137.0675\n",
      "  1137.8748  ]\n",
      " ...\n",
      " [ 120.77963   121.56999   122.36034  ... 1147.6514   1148.4547\n",
      "  1149.258   ]\n",
      " [ 120.81143   121.601814  122.39217  ... 1147.6649   1148.4683\n",
      "  1149.2716  ]\n",
      " [ 120.84322   121.63363   122.42401  ... 1147.6786   1148.4819\n",
      "  1149.2853  ]] [[ 72.217575  72.19603   72.174446 ...  44.072433  44.052414  44.032356]\n",
      " [ 73.02657   73.00503   72.983444 ...  44.885998  44.865982  44.845932]\n",
      " [ 73.83556   73.81402   73.792435 ...  45.69956   45.67955   45.65951 ]\n",
      " ...\n",
      " [648.9124   648.90137  648.8903   ... 624.99713  624.9691   624.9412  ]\n",
      " [649.708    649.69696  649.686    ... 625.79767  625.7697   625.74176 ]\n",
      " [650.50366  650.49255  650.48157  ... 626.5982   626.57025  626.5423  ]]\n",
      "fname:  ./calibration/fisheye_calibrated/1.png ./calibration/pinhole_calibrated/1.png\n"
     ]
    }
   ],
   "source": [
    "print(\"Applying Undistort\\n\")\n",
    "#map1x, map1y = cv.initUndistortRectifyMap(KL, DL, RL, PL, (width, height), cv.CV_32FC1)\n",
    "#map2x, map2y = cv.initUndistortRectifyMap(KR, DR, RR, PR, (width, height), cv.CV_32FC1)\n",
    "\n",
    "map1x, map1y = cv.initUndistortRectifyMap(KL, DL, RL, PL, (height, width), cv.CV_32FC1)\n",
    "map2x, map2y = cv.initUndistortRectifyMap(KR, DR, RR, PR, (height, width), cv.CV_32FC1)\n",
    "print(\"Undistort complete\\n\")\n",
    "\n",
    "\"\"\"\n",
    "for img_id in range(len(imagesR)):\n",
    "    fnameL = left_calibration_path.format(img_id)\n",
    "    fnameR = right_calibration_path.format(img_id)\n",
    "    print(\"fname: \", fnameL, fnameR)\n",
    "    imgL = cv.imread(fnameL)\n",
    "    imgR = cv.imread(fnameR)\n",
    "    imgU1 = np.zeros((height,width,3), np.uint8)\n",
    "    imgU1 = cv.remap(imgL, map1x, map1y, cv.INTER_LINEAR, imgU1, cv.BORDER_CONSTANT, 0)\n",
    "    imgU2 = cv.remap(imgR, map2x, map2y, cv.INTER_LINEAR)\n",
    "    cv.imshow(\"imageL\", imgL);\n",
    "    cv.imshow(\"imageR\", imgR);\n",
    "    cv.imshow(\"image1L\", imgU1);\n",
    "    cv.imshow(\"image2R\", imgU2);\n",
    "    k = cv.waitKey(5);\n",
    "    if(k==27):\n",
    "        break;\n",
    "\"\"\"\n",
    "print(\"Maps1: \\n\", map1x, map1y)\n",
    "print(\"Maps2: \\n\", map2x, map2y)\n",
    "\n",
    "#image remap example\n",
    "img_id = 1\n",
    "fnameL = left_calibration_path.format(img_id)\n",
    "fnameR = right_calibration_path.format(img_id)\n",
    "print(\"fname: \", fnameL, fnameR)\n",
    "imgL = cv.imread(fnameL)\n",
    "imgR = cv.imread(fnameR)\n",
    "cv.imshow('imgL', imgL)\n",
    "cv.waitKey(500)\n",
    "\n",
    "left_img_remap = cv.remap(imgL, map1x, map1y, cv.INTER_LANCZOS4)\n",
    "right_img_remap = cv.remap(imgR, map2x, map2y, cv.INTER_LANCZOS4)"
   ]
  },
  {
   "cell_type": "code",
   "execution_count": 249,
   "metadata": {},
   "outputs": [],
   "source": [
    "cv.imshow(\"imgL remap\", left_img_remap)\n",
    "cv.imshow(\"imgR remap\", right_img_remap)\n",
    "cv.waitKey(500)\n",
    "cv.destroyAllWindows()"
   ]
  },
  {
   "cell_type": "code",
   "execution_count": null,
   "metadata": {},
   "outputs": [],
   "source": []
  },
  {
   "cell_type": "code",
   "execution_count": null,
   "metadata": {},
   "outputs": [],
   "source": []
  }
 ],
 "metadata": {
  "kernelspec": {
   "display_name": "Python 3",
   "language": "python",
   "name": "python3"
  },
  "language_info": {
   "codemirror_mode": {
    "name": "ipython",
    "version": 3
   },
   "file_extension": ".py",
   "mimetype": "text/x-python",
   "name": "python",
   "nbconvert_exporter": "python",
   "pygments_lexer": "ipython3",
   "version": "3.7.5"
  }
 },
 "nbformat": 4,
 "nbformat_minor": 2
}
