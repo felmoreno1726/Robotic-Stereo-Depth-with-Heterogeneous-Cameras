{
 "cells": [
  {
   "cell_type": "code",
   "execution_count": 1,
   "metadata": {},
   "outputs": [
    {
     "name": "stdout",
     "output_type": "stream",
     "text": [
      "Current version of openCV= 4.1.1\n"
     ]
    }
   ],
   "source": [
    "import cv2 as cv\n",
    "print(\"Current version of openCV=\", cv.__version__)\n",
    "import numpy as np\n",
    "import os\n",
    "import glob"
   ]
  },
  {
   "cell_type": "code",
   "execution_count": null,
   "metadata": {},
   "outputs": [],
   "source": [
    "# termination criteria\n",
    "criteria = (cv.TERM_CRITERIA_EPS + cv.TERM_CRITERIA_MAX_ITER, 30, 0.001)\n",
    "# prepare object points, like (0,0,0), (1,0,0), (2,0,0) ....,(6,5,0)\n",
    "points_per_row = 7\n",
    "points_per_column = 7\n",
    "objp = np.zeros((points_per_column*points_per_row,3), np.float32)\n",
    "objp[:,:2] = np.mgrid[0:points_per_row,0:points_per_column].T.reshape(-1,2)\n",
    "# Arrays to store object points and image points from all the images.\n",
    "objpoints = [] # 3d point in real world space\n",
    "imgpoints = [] # 2d points in image plane.\n",
    "images = glob.glob('./pinhole_images/*.png')\n",
    "for fname in images:\n",
    "    img = cv.imread(fname)\n",
    "    gray = cv.cvtColor(img, cv.COLOR_BGR2GRAY)\n",
    "    # Find the chess board corners\n",
    "    ret, corners = cv.findChessboardCorners(gray, (points_per_row,points_per_column), None)\n",
    "    # If found, add object points, image points (after refining them)\n",
    "    if ret == True:\n",
    "        objpoints.append(objp)\n",
    "        corners2 = cv.cornerSubPix(gray,corners, (11,11), (-1,-1), criteria)\n",
    "        imgpoints.append(corners)\n",
    "        # Draw and display the corners\n",
    "        cv.drawChessboardCorners(img, (points_per_row,points_per_column), corners2, ret)\n",
    "        cv.imshow('img', img)\n",
    "        cv.waitKey(500)\n",
    "cv.destroyAllWindows()"
   ]
  },
  {
   "cell_type": "code",
   "execution_count": null,
   "metadata": {},
   "outputs": [],
   "source": [
    "ret, mtx, dist, rvecs, tvecs = cv.calibrateCamera(objpoints, imgpoints, gray.shape[::-1], None, None)\n",
    "print(\"ret: \", ret)\n",
    "print(\"K matrix: \", mtx)\n",
    "print(\"D distortions: \", dist)\n",
    "#print(\"rotation vecs: \", rvecs)\n",
    "print(\"translation vecs: \", tvecs)\n"
   ]
  },
  {
   "cell_type": "code",
   "execution_count": null,
   "metadata": {},
   "outputs": [],
   "source": [
    "#img_dir = 'pinhole_images/'\n",
    "img_dir = 'fisheye_images/'\n",
    "img_name  = '1.png'\n",
    "dst_dir = 'calibration_results/'\n",
    "img = cv.imread(img_dir + img_name)\n",
    "h,  w = img.shape[:2]\n",
    "newcameramtx, roi = cv.getOptimalNewCameraMatrix(mtx, dist, (w,h), 0, (w,h))\n",
    "# undistort\n",
    "dst = cv.undistort(img, mtx, dist, None, newcameramtx)\n",
    "# crop the image\n",
    "x, y, w, h = roi\n",
    "dst = dst[y:y+h, x:x+w]\n",
    "cv.imwrite(dst_dir+img_dir+img_name, dst)"
   ]
  },
  {
   "cell_type": "markdown",
   "metadata": {},
   "source": [
    "## Fisheye camera calibration"
   ]
  },
  {
   "cell_type": "code",
   "execution_count": null,
   "metadata": {},
   "outputs": [],
   "source": [
    "# termination criteria\n",
    "subpix_criteria = (cv.TERM_CRITERIA_EPS + cv.TERM_CRITERIA_MAX_ITER, 30, 0.001)\n",
    "calibration_flags = (cv.fisheye.CALIB_RECOMPUTE_EXTRINSIC,cv.fisheye.CALIB_CHECK_COND+\n",
    "                    cv.fisheye.CALIB_FIX_SKEW)\n",
    "# prepare object points, like (0,0,0), (1,0,0), (2,0,0) ....,(6,5,0)\n",
    "points_per_row = 7\n",
    "points_per_column = 7\n",
    "\n",
    "objp = np.zeros((points_per_column*points_per_row,3), np.float32)\n",
    "objp[:,:2] = np.mgrid[0:points_per_row,0:points_per_column].T.reshape(-1,2)\n",
    "# Arrays to store object points and image points from all the images.\n",
    "objpoints = [] # 3d point in real world space\n",
    "imgpoints = [] # 2d points in image plane.\n",
    "images = glob.glob('./fisheye_images/*.png')\n",
    "for fname in images:\n",
    "    img = cv.imread(fname)\n",
    "    gray = cv.cvtColor(img, cv.COLOR_BGR2GRAY)\n",
    "    # Find the chess board corners\n",
    "    ret, corners = cv.findChessboardCorners(gray, \n",
    "                                            (points_per_row,points_per_column), \n",
    "                                            cv.CALIB_CB_ADAPTIVE_THRESH+cv.CALIB_CB_FAST_CHECK+cv.CALIB_CB_NORMALIZE_IMAGE)\n",
    "    # If found, add object points, image points (after refining them)\n",
    "    if ret == True:\n",
    "        objpoints.append(objp)\n",
    "        corners2 = cv.cornerSubPix(gray,corners, (11,11), (-1,-1), subpix_criteria)\n",
    "        imgpoints.append(corners)\n",
    "        # Draw and display the corners\n",
    "        cv.drawChessboardCorners(img, (points_per_row,points_per_column), corners2, ret)\n",
    "        cv.imshow('img', img)\n",
    "        cv.waitKey(500)"
   ]
  },
  {
   "cell_type": "code",
   "execution_count": null,
   "metadata": {},
   "outputs": [],
   "source": [
    "N_OK = len(objpoints)\n",
    "objpoints=np.array(objpoints, dtype=np.float64)\n",
    "objpoints = np.reshape(objpoints, (N_OK, 1, points_per_row*points_per_column, 3))\n",
    "K = np.zeros((3, 3))\n",
    "D = np.zeros((4, 1))\n",
    "rvecs = [np.zeros((1, 1, 3), dtype=np.float64) for i in range(N_OK)]\n",
    "tvecs = [np.zeros((1, 1, 3), dtype=np.float64) for i in range(N_OK)]\n",
    "cv.destroyAllWindows()"
   ]
  },
  {
   "cell_type": "code",
   "execution_count": null,
   "metadata": {},
   "outputs": [],
   "source": [
    "print(\"K before: \", K)\n",
    "calibration_flags = cv.fisheye.CALIB_RECOMPUTE_EXTRINSIC+cv.fisheye.CALIB_CHECK_COND+cv.fisheye.CALIB_FIX_SKEW\n",
    "rms, _, _, _, _ = \\\n",
    "cv.fisheye.calibrate(objpoints,\n",
    "                        imgpoints, \n",
    "                        gray.shape[::-1], \n",
    "                        K, \n",
    "                        D, \n",
    "                        rvecs, \n",
    "                        tvecs,\n",
    "                        calibration_flags,\n",
    "                        (cv.TERM_CRITERIA_EPS+cv.TERM_CRITERIA_MAX_ITER, 30, 1e-6))\n",
    "print(\"Found \" + str(N_OK) + \" valid images for calibration\")\n",
    "print(\"K=np.array(\" + str(K.tolist()) + \")\")\n",
    "\n",
    "print(\"D=np.array(\" + str(D.tolist()) + \")\")"
   ]
  },
  {
   "cell_type": "code",
   "execution_count": null,
   "metadata": {},
   "outputs": [],
   "source": [
    "img = cv.imread('./fisheye_images/1.png')\n",
    "h,  w = img.shape[:2]\n",
    "print(h, w)\n",
    "#newcameramtx, roi = cv.getOptimalNewCameraMatrix(K, D, (h, w), 0, (h, w))\n",
    "#print('optimal new camera matris: ', newcameramtx, roi)\n",
    "mapx, mapy = cv.fisheye.initUndistortRectifyMap(K, D, np.eye(3), K, (w,h), cv.CV_16SC2)\n",
    "# undistort\n",
    "dst = cv.remap(img, map1, map2, \n",
    "                   interpolation=cv.INTER_LINEAR,\n",
    "                  borderMode = cv.BORDER_CONSTANT)\n",
    "# crop the image\n",
    "#x, y, w, h = roi\n",
    "#print(\"roi: \", roi)\n",
    "#dst = dst[y:y+h, x:x+w]\n",
    "cv.imshow(\"undistorted fisheye: \", dst)\n",
    "cv.waitKey(500)\n",
    "#cv.imwrite(dst_dir+img_dir+img_name, dst)\n"
   ]
  },
  {
   "cell_type": "code",
   "execution_count": null,
   "metadata": {},
   "outputs": [],
   "source": [
    "img = cv.imread('./fisheye_images/1.png')\n",
    "h,w = img.shape[:2]    \n",
    "map1, map2 = cv.fisheye.initUndistortRectifyMap(K, D, np.eye(3), K, DIM, cv.CV_16SC2)\n",
    "undistorted_img = cv.remap(img, map1, map2, interpolation=cv.INTER_LINEAR, borderMode=cv.BORDER_CONSTANT)\n",
    "cv.imshow(\"undistorted\", undistorted_img)\n",
    "cv.waitKey(500)\n",
    "#cv.destroyAllWindows()"
   ]
  },
  {
   "cell_type": "code",
   "execution_count": null,
   "metadata": {
    "scrolled": false
   },
   "outputs": [],
   "source": [
    "print(\"K: \", K)\n",
    "print(\"D: \", D)\n",
    "print(\"eye: \", np.eye(3))\n",
    "data_dir = './fisheye_images/'\n",
    "filename = \"{}.png\"\n",
    "dst_dir = './calibration_results/fisheye_images/'\n",
    "for img_id in range(len(images)):\n",
    "    img_name = data_dir + filename.format(img_id)\n",
    "    img = cv.imread(img_name)\n",
    "    map1, map2 = cv.fisheye.initUndistortRectifyMap(K, D, np.eye(3), K, DIM, cv.CV_16SC2)\n",
    "    undistorted_img = cv.remap(img, map1, map2, interpolation=cv.INTER_LINEAR, borderMode=cv.BORDER_CONSTANT)\n",
    "    cv.imshow('img_undistorted', undistorted_img)\n",
    "    cv.waitKey(500)\n",
    "    #cv.imwrite(dst_dir + filename.format(img_id), undistorted_img)\n",
    "cv.destroyAllWindows()"
   ]
  },
  {
   "cell_type": "code",
   "execution_count": null,
   "metadata": {},
   "outputs": [],
   "source": [
    "#Fisheye calibration\n",
    "\n",
    "N_OK = len(objpoints)\n",
    "objpointsL=np.array(objpoints, dtype=np.float64)\n",
    "objpointsL = np.reshape(objpointsL, (N_OK, 1, points_per_row*points_per_column, 3))\n",
    "KL = np.zeros((3, 3))\n",
    "DL = np.zeros((4, 1))\n",
    "rvecsL = [np.zeros((1, 1, 3), dtype=np.float64) for i in range(N_OK)]\n",
    "tvecsL = [np.zeros((1, 1, 3), dtype=np.float64) for i in range(N_OK)]\n",
    "calibration_flags = cv.fisheye.CALIB_RECOMPUTE_EXTRINSIC\n",
    "rms, _, _, _, _ = \\\n",
    "cv.fisheye.calibrate(objpointsL,\n",
    "                        imgpointsL, \n",
    "                        grayL.shape[::-1], \n",
    "                        KL, \n",
    "                        DL, \n",
    "                        rvecsL, \n",
    "                        tvecsL,\n",
    "                        calibration_flags,\n",
    "                        (cv.TERM_CRITERIA_EPS+cv.TERM_CRITERIA_MAX_ITER, 30, 1e-6))\n",
    "print(\"Found \" + str(N_OK) + \" valid images for calibration\")\n",
    "print(\"K=np.array(\" + str(KL.tolist()) + \")\")\n",
    "print(\"D=np.array(\" + str(DL.tolist()) + \")\")\n"
   ]
  },
  {
   "cell_type": "markdown",
   "metadata": {},
   "source": [
    "## Stereo"
   ]
  },
  {
   "cell_type": "code",
   "execution_count": 7,
   "metadata": {},
   "outputs": [],
   "source": [
    "left_calibration_path = './calibration_results/fisheye_images/{}.png'\n",
    "right_calibration_path = './calibration_results/pinhole_images/{}.png'"
   ]
  },
  {
   "cell_type": "code",
   "execution_count": 8,
   "metadata": {},
   "outputs": [],
   "source": [
    "# termination criteria\n",
    "criteria = (cv.TERM_CRITERIA_EPS + cv.TERM_CRITERIA_MAX_ITER, 30, 0.001)\n",
    "# prepare object points, like (0,0,0), (1,0,0), (2,0,0) ....,(6,5,0)\n",
    "points_per_row = 7\n",
    "points_per_column = 7\n",
    "objp = np.zeros((points_per_column*points_per_row,3), np.float32)\n",
    "objp[:,:2] = np.mgrid[0:points_per_row,0:points_per_column].T.reshape(-1,2)\n",
    "# Arrays to store object points and image points from all the images.\n",
    "objpoints = [] # 3d point in real world space\n",
    "imgpointsL = [] # 2d points in Right image plane.\n",
    "imgpointsR = [] # 2d points in Left image plane.\n",
    "imagesR = glob.glob('./calibration_results/pinhole_images/*.png')\n",
    "imagesL = glob.glob('./calibration_results/fisheye_images/*.png')\n",
    "for img_id in range(len(imagesR)):\n",
    "    fnameL = left_calibration_path.format(img_id)\n",
    "    fnameR = right_calibration_path.format(img_id)\n",
    "    imgL = cv.imread(fnameL)\n",
    "    imgR = cv.imread(fnameR)\n",
    "    grayL = cv.cvtColor(imgL, cv.COLOR_BGR2GRAY)\n",
    "    grayR = cv.cvtColor(imgR, cv.COLOR_BGR2GRAY)\n",
    "    # Find the chess board corners\n",
    "    retL, cornersL = cv.findChessboardCorners(grayL, (points_per_row,points_per_column), None)\n",
    "    retR, cornersR = cv.findChessboardCorners(grayR, (points_per_row,points_per_column), None)\n",
    "    # If found on both, add object points, image points (after refining them)\n",
    "    if retL == True and retR == True:\n",
    "        objpoints.append(objp)\n",
    "        corners2L = cv.cornerSubPix(grayL,cornersL, (11,11), (-1,-1), criteria)\n",
    "        corners2R = cv.cornerSubPix(grayR,cornersR, (11,11), (-1,-1), criteria)\n",
    "        imgpointsL.append(cornersL)\n",
    "        imgpointsR.append(cornersR)\n",
    "        # Draw and display the corners\n",
    "        cv.drawChessboardCorners(imgL, (points_per_row,points_per_column), corners2L, retL)\n",
    "        cv.drawChessboardCorners(imgR, (points_per_row,points_per_column), corners2R, retR)\n",
    "        cv.imshow('img', imgL)\n",
    "        cv.waitKey(500)\n",
    "        cv.imshow('img', imgR)\n",
    "        cv.waitKey(500)\n",
    "cv.destroyAllWindows()"
   ]
  },
  {
   "cell_type": "markdown",
   "metadata": {},
   "source": [
    "## Store undistorted images"
   ]
  },
  {
   "cell_type": "code",
   "execution_count": null,
   "metadata": {},
   "outputs": [],
   "source": [
    "#pinhole Right camera calibration\n",
    "#print(objpoints)\n",
    "ret, KR, DR, rvecsR, tvecsR = cv.calibrateCamera(objpoints, imgpointsR, grayR.shape[::-1], None, None)\n",
    "print(\"Right camera calibration\\n\")\n",
    "print(\"ret: \", ret)\n",
    "print(\"K matrix: \", KR)\n",
    "print(\"D distortions: \", DR)\n",
    "#print(\"rotation vecs: \", rvecsR)\n",
    "print(\"translation vecs: \", tvecsR)\n",
    "#pinhole Left camera calibration\n",
    "#print(objpoints)\n",
    "ret, KL, DL, rvecsL, tvecsL = cv.calibrateCamera(objpoints, imgpointsL, grayL.shape[::-1], None, None)\n",
    "print(\"Left camera calibration\\n\")\n",
    "print(\"ret: \", ret)\n",
    "print(\"K matrix: \", KL)\n",
    "print(\"D distortions: \", DL)\n",
    "#print(\"rotation vecs: \", rvecsR)\n",
    "print(\"translation vecs: \", tvecsL)"
   ]
  },
  {
   "cell_type": "code",
   "execution_count": null,
   "metadata": {},
   "outputs": [],
   "source": [
    "#img_dir = 'pinhole_images/'\n",
    "img_dirL = 'fisheye_images/'\n",
    "img_dirR = \"pinhole_images/\"\n",
    "img_name  = '{}.png'\n",
    "dst_dir = 'calibration_results/'\n",
    "#get image size\n",
    "img = cv.imread(left_calibration_path.format(img_id))\n",
    "img_size = img.shape[:2]\n",
    "h,  w = img.shape[:2]\n",
    "width, height = img_size\n",
    "for img_id in range(len(imagesR)):\n",
    "    imgL = cv.imread(img_dirL + img_name.format(img_id))\n",
    "    imgR = cv.imread(img_dirR + img_name.format(img_id))\n",
    "    newcameramtxL, roiL = cv.getOptimalNewCameraMatrix(KL, DL, (w,h), 0, (w,h))\n",
    "    newcameramtxR, roiR = cv.getOptimalNewCameraMatrix(KR, DR, (w,h), 0, (w,h))\n",
    "    # undistort\n",
    "    dstL = cv.undistort(imgL, KL, DL, None, newcameramtxL)\n",
    "    dstR = cv.undistort(imgR, KR, DR, None, newcameramtxR)\n",
    "    # crop the images\n",
    "    #crop right\n",
    "    x, y, w, h = roiL\n",
    "    dstL = dstL[y:y+h, x:x+w]\n",
    "    cv.imwrite(dst_dir+img_dirL+img_name.format(img_id), dstL)\n",
    "    #crop left\n",
    "    x, y, w, h = roiR\n",
    "    dstR = dstR[y:y+h, x:x+w]\n",
    "    cv.imwrite(dst_dir+img_dirR+img_name.format(img_id), dstR)"
   ]
  },
  {
   "cell_type": "code",
   "execution_count": null,
   "metadata": {},
   "outputs": [],
   "source": [
    "cv.destroyAllWindows()"
   ]
  },
  {
   "cell_type": "markdown",
   "metadata": {},
   "source": [
    "## Perform image rectification"
   ]
  },
  {
   "cell_type": "code",
   "execution_count": 21,
   "metadata": {},
   "outputs": [
    {
     "name": "stdout",
     "output_type": "stream",
     "text": [
      "720 1280\n"
     ]
    }
   ],
   "source": [
    "img = cv.imread(left_calibration_path.format(img_id))\n",
    "width, height = img.shape[:-1]\n",
    "R = None\n",
    "T = None\n",
    "E = None\n",
    "F = None\n",
    "stereocalib_criteria = (cv.TERM_CRITERIA_MAX_ITER + cv.TERM_CRITERIA_EPS, 100, 1e-5)\n",
    "stereocalib_flags = cv.CALIB_FIX_ASPECT_RATIO | cv.CALIB_ZERO_TANGENT_DIST | cv.CALIB_SAME_FOCAL_LENGTH | cv.CALIB_RATIONAL_MODEL | cv.CALIB_FIX_K3 | cv.CALIB_FIX_K4 | cv.CALIB_FIX_K5\n",
    "print(width, height)\n",
    "retval, KL, DL, KR, DR, R, T, E, F = \\\n",
    " cv.stereoCalibrate(objpoints, imgpointsL, imgpointsR,\n",
    "                                #imageSize = (width, height),\n",
    "                                imageSize = (height, width),\n",
    "                                cameraMatrix1 = None,\n",
    "                                distCoeffs1 = None,\n",
    "                                cameraMatrix2 = None,\n",
    "                                distCoeffs2 = None,\n",
    "                                R=R,\n",
    "                                T=T,\n",
    "                                E=E,\n",
    "                                F=F,\n",
    "                                #flags=cv.CALIB_FIX_INTRINSIC\n",
    "                                flags=stereocalib_flags,\n",
    "                                criteria=stereocalib_criteria\n",
    "                   )"
   ]
  },
  {
   "cell_type": "code",
   "execution_count": 10,
   "metadata": {},
   "outputs": [
    {
     "name": "stdout",
     "output_type": "stream",
     "text": [
      "1.678273585664323\n",
      "cameraM1: \n",
      " [[1.09483213e+03 0.00000000e+00 6.24961734e+02]\n",
      " [0.00000000e+00 1.09483213e+03 3.36673363e+02]\n",
      " [0.00000000e+00 0.00000000e+00 1.00000000e+00]]\n",
      "distCoeffs1: \n",
      " [[  0.01618444   2.55991502   0.           0.           0.\n",
      "    0.           0.         -13.73483473   0.           0.\n",
      "    0.           0.           0.           0.        ]]\n",
      "cameraM2: \n",
      " [[1.09483213e+03 0.00000000e+00 6.16310042e+02]\n",
      " [0.00000000e+00 1.09483213e+03 3.62861569e+02]\n",
      " [0.00000000e+00 0.00000000e+00 1.00000000e+00]]\n",
      "distCoeffs2: \n",
      " [[-0.00178041  0.10217565  0.          0.          0.          0.\n",
      "   0.          0.23813067  0.          0.          0.          0.\n",
      "   0.          0.        ]]\n",
      "R:  [[ 9.99539762e-01  3.26388523e-04  3.03340853e-02]\n",
      " [ 1.39842397e-03  9.98383350e-01 -5.68219287e-02]\n",
      " [-3.03035917e-02  5.68381970e-02  9.97923400e-01]]\n",
      "T:  [[  3.85291541]\n",
      " [  1.29027583]\n",
      " [-10.04987305]]\n",
      "E:  [[-0.02504601 10.10696288  0.71654327]\n",
      " [-9.92849055 -0.22227293 -4.14976815]\n",
      " [-1.28429398  3.84626546 -0.25806942]]\n",
      "F:  [[-1.99428205e-07  8.04764350e-05 -2.07231188e-02]\n",
      " [-7.90553537e-05 -1.76984254e-06  1.38265230e-02]\n",
      " [ 1.76131327e-02 -1.54261273e-02  1.00000000e+00]]\n"
     ]
    }
   ],
   "source": [
    "print(retval)\n",
    "print(\"cameraM1: \\n\", KL)\n",
    "print(\"distCoeffs1: \\n\", DL)\n",
    "print(\"cameraM2: \\n\", KR)\n",
    "print(\"distCoeffs2: \\n\", DR)\n",
    "print(\"R: \", R)\n",
    "print(\"T: \", T)\n",
    "print(\"E: \", E)\n",
    "print(\"F: \", F)"
   ]
  },
  {
   "cell_type": "code",
   "execution_count": 11,
   "metadata": {},
   "outputs": [
    {
     "name": "stdout",
     "output_type": "stream",
     "text": [
      "(720, 1280)\n"
     ]
    }
   ],
   "source": [
    "img_id = 1\n",
    "\n",
    "imgL = cv.imread('./calibration_results/fisheye_images/{}.png'.format(img_id))\n",
    "imgR = cv.imread('./calibration_results/pinhole_images/{}.png'.format(img_id))\n",
    "img_size = imgL.shape[:2]\n",
    "alpha = 0 ### =0 crop, =1 keep dimensions\n",
    "print(img_size)\n",
    "\n",
    "RL = np.zeros(shape=(3,3))\n",
    "RR = np.zeros(shape=(3,3))\n",
    "PL = np.zeros(shape=(3,4))\n",
    "PR = np.zeros(shape=(3,4))\n",
    "\n",
    "\"\"\"out = cv.stereoRectify(KL, DL, KR, DR, (width, height), R=R, T=T, \n",
    "                       R1=RL, R2=RR, P1=PL, P2=PR,\n",
    "                      Q=None, flags=cv.CALIB_ZERO_DISPARITY, alpha=alpha, newImageSize=(0,0))\n",
    "\"\"\"\n",
    "RL, RR, PL, PR, Q, roiL, roiR = cv.stereoRectify(KL, DL, KR, DR, (width, height), R=R, T=T, alpha=alpha)\n"
   ]
  },
  {
   "cell_type": "code",
   "execution_count": 12,
   "metadata": {},
   "outputs": [
    {
     "name": "stdout",
     "output_type": "stream",
     "text": [
      "RL: \n",
      " [[ 0.38352591  0.06625629 -0.92115035]\n",
      " [-0.09305787  0.99511925  0.03283156]\n",
      " [ 0.91882975  0.07312853  0.38781969]]\n",
      "RR: \n",
      " [[ 0.35542877  0.11902705 -0.92709382]\n",
      " [-0.09169433  0.9915148   0.09214416]\n",
      " [ 0.93019489  0.05225856  0.363327  ]]\n",
      "PL: \n",
      " [[ 3.37277318e+02  0.00000000e+00 -2.57978958e+03  0.00000000e+00]\n",
      " [ 0.00000000e+00  3.37277318e+02  1.99137965e+03  0.00000000e+00]\n",
      " [ 0.00000000e+00  0.00000000e+00  1.00000000e+00  0.00000000e+00]]\n",
      "RR: \n",
      " [[ 3.37277318e+02  0.00000000e+00 -2.57978958e+03  3.65615017e+03]\n",
      " [ 0.00000000e+00  3.37277318e+02  1.99137965e+03  0.00000000e+00]\n",
      " [ 0.00000000e+00  0.00000000e+00  1.00000000e+00  0.00000000e+00]]\n",
      "Q:  [[ 1.00000000e+00  0.00000000e+00  0.00000000e+00  2.57978958e+03]\n",
      " [ 0.00000000e+00  1.00000000e+00  0.00000000e+00 -1.99137965e+03]\n",
      " [ 0.00000000e+00  0.00000000e+00  0.00000000e+00  3.37277318e+02]\n",
      " [ 0.00000000e+00  0.00000000e+00 -9.22493064e-02  0.00000000e+00]]\n",
      "roiL: \n",
      " (0, 0, 0, 0)\n",
      "roiR: \n",
      " (0, 0, 0, 0)\n"
     ]
    }
   ],
   "source": [
    "print(\"RL: \\n\", RL)\n",
    "print(\"RR: \\n\", RR)\n",
    "print(\"PL: \\n\", PL)\n",
    "print(\"RR: \\n\", PR)\n",
    "print(\"Q: \", Q)\n",
    "print(\"roiL: \\n\", roiL)\n",
    "print(\"roiR: \\n\", roiR)\n"
   ]
  },
  {
   "cell_type": "code",
   "execution_count": 13,
   "metadata": {},
   "outputs": [
    {
     "name": "stdout",
     "output_type": "stream",
     "text": [
      "Applying Undistort\n",
      "\n",
      "Undistort complete\n",
      "\n",
      "Maps1: \n",
      " [[   818.9658     819.15674    819.34784 ...   1031.7202    1032.1698\n",
      "    1032.62   ]\n",
      " [   819.19257    819.3838     819.57526 ...   1032.3688    1032.8195\n",
      "    1033.2706 ]\n",
      " [   819.4198     819.6113     819.8031  ...   1033.019     1033.4707\n",
      "    1033.923  ]\n",
      " ...\n",
      " [-35808.555   -34417.484   -33130.113   ...  -1093.2662   -1091.6613\n",
      "   -1090.0607 ]\n",
      " [-33609.77    -32380.574   -31237.816   ...  -1090.483    -1088.8854\n",
      "   -1087.2921 ]\n",
      " [-31664.791   -30570.734   -29549.486   ...  -1087.7141   -1086.1238\n",
      "   -1084.5377 ]] [[  103.27883    103.11817    102.95736  ...   -65.217896   -65.559074\n",
      "    -65.90068 ]\n",
      " [  103.12157    102.96069    102.799675 ...   -65.64953    -65.99139\n",
      "    -66.333664]\n",
      " [  102.964035   102.802956   102.64173  ...   -66.08217    -66.4247\n",
      "    -66.76765 ]\n",
      " ...\n",
      " [14082.679    13552.432    13061.708    ...   826.5485     825.9072\n",
      "    825.26764 ]\n",
      " [13229.033    12761.045    12325.962    ...   824.74225    824.10455\n",
      "    823.46857 ]\n",
      " [12473.879    12057.836    11669.477    ...   822.94324    822.3091\n",
      "    821.6766  ]]\n",
      "Maps2: \n",
      " [[15.710866  15.714617  15.718501  ... 35.25992   35.29596   35.331997 ]\n",
      " [15.649658  15.653575  15.657624  ... 35.25723   35.293297  35.32937  ]\n",
      " [15.588597  15.592678  15.596892  ... 35.254574  35.290676  35.326782 ]\n",
      " ...\n",
      " [ 7.407178   7.4810023  7.5547705 ... 48.936832  48.982147  49.027435 ]\n",
      " [ 7.4249372  7.498761   7.5725293 ... 48.95294   48.998253  49.043537 ]\n",
      " [ 7.4427047  7.5165286  7.5902967 ... 48.96905   49.01436   49.05964  ]] [[1063.9791  1063.7479  1063.5166  ...  907.80524  907.6139   907.42267]\n",
      " [1063.6747  1063.4432  1063.2119  ...  907.4923   907.301    907.10986]\n",
      " [1063.3699  1063.1383  1062.9069  ...  907.1793   906.9881   906.79694]\n",
      " ...\n",
      " [ 543.0787   542.95154  542.8245  ...  471.9768   471.89957  471.8224 ]\n",
      " [ 542.62036  542.4934   542.3665  ...  471.61743  471.5403   471.46323]\n",
      " [ 542.16205  542.0352   541.90857 ...  471.25806  471.18103  471.10406]]\n",
      "fname:  ./calibration_results/fisheye_images/1.png ./calibration_results/pinhole_images/1.png\n"
     ]
    }
   ],
   "source": [
    "print(\"Applying Undistort\\n\")\n",
    "map1x, map1y = cv.initUndistortRectifyMap(KL, DL, RL, PL, (width, height), cv.CV_32FC1)\n",
    "map2x, map2y = cv.initUndistortRectifyMap(KR, DR, RR, PR, (width, height), cv.CV_32FC1)\n",
    "\n",
    "print(\"Undistort complete\\n\")\n",
    "\n",
    "\"\"\"\n",
    "for img_id in range(len(imagesR)):\n",
    "    fnameL = left_calibration_path.format(img_id)\n",
    "    fnameR = right_calibration_path.format(img_id)\n",
    "    print(\"fname: \", fnameL, fnameR)\n",
    "    imgL = cv.imread(fnameL)\n",
    "    imgR = cv.imread(fnameR)\n",
    "    imgU1 = np.zeros((height,width,3), np.uint8)\n",
    "    imgU1 = cv.remap(imgL, map1x, map1y, cv.INTER_LINEAR, imgU1, cv.BORDER_CONSTANT, 0)\n",
    "    imgU2 = cv.remap(imgR, map2x, map2y, cv.INTER_LINEAR)\n",
    "    cv.imshow(\"imageL\", imgL);\n",
    "    cv.imshow(\"imageR\", imgR);\n",
    "    cv.imshow(\"image1L\", imgU1);\n",
    "    cv.imshow(\"image2R\", imgU2);\n",
    "    k = cv.waitKey(5);\n",
    "    if(k==27):\n",
    "        break;\n",
    "\"\"\"\n",
    "print(\"Maps1: \\n\", map1x, map1y)\n",
    "print(\"Maps2: \\n\", map2x, map2y)\n",
    "\n",
    "#image remap example\n",
    "img_id = 1\n",
    "fnameL = left_calibration_path.format(img_id)\n",
    "fnameR = right_calibration_path.format(img_id)\n",
    "print(\"fname: \", fnameL, fnameR)\n",
    "imgL = cv.imread(fnameL)\n",
    "imgR = cv.imread(fnameR)\n",
    "cv.imshow('imgL', imgL)\n",
    "cv.waitKey(500)\n",
    "\n",
    "left_img_remap = cv.remap(imgL, map1x, map1y, cv.INTER_LANCZOS4)\n",
    "right_img_remap = cv.remap(imgR, map2x, map2y, cv.INTER_LANCZOS4)"
   ]
  },
  {
   "cell_type": "code",
   "execution_count": 15,
   "metadata": {},
   "outputs": [],
   "source": [
    "cv.imshow(\"imgL remap\", left_img_remap)\n",
    "cv.imshow(\"imgR remap\", right_img_remap)\n",
    "cv.waitKey(500)\n",
    "cv.destroyAllWindows()"
   ]
  },
  {
   "cell_type": "code",
   "execution_count": null,
   "metadata": {},
   "outputs": [],
   "source": [
    "print(\"Applying Undistort\\n\")\n",
    "#map1x, map1y = cv.initUndistortRectifyMap(KL, DL, R1, P1, (width, height), cv.CV_32FC1)\n",
    "#map2x, map2y = cv.initUndistortRectifyMap(KR, DR, R2, P2, (width, height), cv.CV_32FC1)\n",
    "map1x, map1y = cv.initUndistortRectifyMap(KL, DL, RL, PL, (width, height), cv.CV_16SC2)\n",
    "map2x, map2y = cv.initUndistortRectifyMap(KR, DR, RR, PR, (width, height), cv.CV_16SC2)\n",
    "\n",
    "print(\"Undistort complete\\n\")\n",
    "\n",
    "for img_id in range(len(imagesR)):\n",
    "    fnameL = left_calibration_path.format(img_id)\n",
    "    fnameR = right_calibration_path.format(img_id)\n",
    "    print(\"fname: \", fnameL, fnameR)\n",
    "    imgL = cv.imread(fnameL)\n",
    "    imgR = cv.imread(fnameR)\n",
    "    #imgU1 = np.zeros((height,width,3), np.uint8)\n",
    "    #imgU1 = cv.remap(imgL, map1x, map1y, cv.INTER_LINEAR)\n",
    "    #imgU2 = cv.remap(imgR, map2x, map2y, cv.INTER_LINEAR)\n",
    "    imgU1 = cv.remap(imgL, map1x, map1y, cv.INTER_LANCZOS4)\n",
    "    imgU2 = cv.remap(imgR, map2x, map2y, cv.INTER_LANCZOS4)\n",
    "    cv.imshow(\"imageL\", imgL);\n",
    "    cv.imshow(\"imageR\", imgR);\n",
    "    cv.imshow(\"imageL\", imgU1);\n",
    "    cv.imshow(\"imageR\", imgU2);\n",
    "    k = cv.waitKey(500);\n",
    "    if(k==27):\n",
    "        break;"
   ]
  },
  {
   "cell_type": "code",
   "execution_count": null,
   "metadata": {},
   "outputs": [],
   "source": [
    "print(\"imageL shape: \", imgL.shape)\n",
    "print(\"imageR shape: \", imgR.shape)\n",
    "cv.destroyAllWindows()"
   ]
  }
 ],
 "metadata": {
  "kernelspec": {
   "display_name": "Python 3",
   "language": "python",
   "name": "python3"
  },
  "language_info": {
   "codemirror_mode": {
    "name": "ipython",
    "version": 3
   },
   "file_extension": ".py",
   "mimetype": "text/x-python",
   "name": "python",
   "nbconvert_exporter": "python",
   "pygments_lexer": "ipython3",
   "version": "3.7.5"
  }
 },
 "nbformat": 4,
 "nbformat_minor": 2
}
