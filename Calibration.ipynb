{
 "cells": [
  {
   "cell_type": "code",
   "execution_count": 4,
   "metadata": {},
   "outputs": [
    {
     "name": "stdout",
     "output_type": "stream",
     "text": [
      "Current version of openCV= 4.1.1\n"
     ]
    }
   ],
   "source": [
    "import cv2 as cv\n",
    "print(\"Current version of openCV=\", cv.__version__)\n",
    "import numpy as np\n",
    "import os\n",
    "import glob"
   ]
  },
  {
   "cell_type": "code",
   "execution_count": null,
   "metadata": {},
   "outputs": [],
   "source": [
    "# termination criteria\n",
    "criteria = (cv.TERM_CRITERIA_EPS + cv.TERM_CRITERIA_MAX_ITER, 30, 0.001)\n",
    "# prepare object points, like (0,0,0), (1,0,0), (2,0,0) ....,(6,5,0)\n",
    "points_per_row = 7\n",
    "points_per_column = 7\n",
    "objp = np.zeros((points_per_column*points_per_row,3), np.float32)\n",
    "objp[:,:2] = np.mgrid[0:points_per_row,0:points_per_column].T.reshape(-1,2)\n",
    "# Arrays to store object points and image points from all the images.\n",
    "objpoints = [] # 3d point in real world space\n",
    "imgpoints = [] # 2d points in image plane.\n",
    "images = glob.glob('./pinhole_images/*.png')\n",
    "for fname in images:\n",
    "    img = cv.imread(fname)\n",
    "    gray = cv.cvtColor(img, cv.COLOR_BGR2GRAY)\n",
    "    # Find the chess board corners\n",
    "    ret, corners = cv.findChessboardCorners(gray, (points_per_row,points_per_column), None)\n",
    "    # If found, add object points, image points (after refining them)\n",
    "    if ret == True:\n",
    "        objpoints.append(objp)\n",
    "        corners2 = cv.cornerSubPix(gray,corners, (11,11), (-1,-1), criteria)\n",
    "        imgpoints.append(corners)\n",
    "        # Draw and display the corners\n",
    "        cv.drawChessboardCorners(img, (points_per_row,points_per_column), corners2, ret)\n",
    "        cv.imshow('img', img)\n",
    "        cv.waitKey(500)\n",
    "cv.destroyAllWindows()"
   ]
  },
  {
   "cell_type": "code",
   "execution_count": null,
   "metadata": {},
   "outputs": [],
   "source": [
    "ret, mtx, dist, rvecs, tvecs = cv.calibrateCamera(objpoints, imgpoints, gray.shape[::-1], None, None)\n",
    "print(\"ret: \", ret)\n",
    "print(\"K matrix: \", mtx)\n",
    "print(\"D distortions: \", dist)\n",
    "#print(\"rotation vecs: \", rvecs)\n",
    "print(\"translation vecs: \", tvecs)\n"
   ]
  },
  {
   "cell_type": "code",
   "execution_count": null,
   "metadata": {},
   "outputs": [],
   "source": [
    "img = cv.imread('./pinhole_images/camera_1_jibo_capture_0.png')\n",
    "h,  w = img.shape[:2]\n",
    "newcameramtx, roi = cv.getOptimalNewCameraMatrix(mtx, dist, (w,h), 0, (w,h))"
   ]
  },
  {
   "cell_type": "code",
   "execution_count": null,
   "metadata": {},
   "outputs": [],
   "source": [
    "# undistort\n",
    "dst = cv.undistort(img, mtx, dist, None, newcameramtx)\n",
    "# crop the image\n",
    "x, y, w, h = roi\n",
    "dst = dst[y:y+h, x:x+w]\n",
    "cv.imwrite('calibresult2.png', dst)"
   ]
  },
  {
   "cell_type": "markdown",
   "metadata": {},
   "source": [
    "## Fisheye camera calibration"
   ]
  },
  {
   "cell_type": "code",
   "execution_count": null,
   "metadata": {},
   "outputs": [],
   "source": [
    "# termination criteria\n",
    "criteria = (cv.TERM_CRITERIA_EPS + cv.TERM_CRITERIA_MAX_ITER, 30, 0.001)\n",
    "# prepare object points, like (0,0,0), (1,0,0), (2,0,0) ....,(6,5,0)\n",
    "points_per_row = 7\n",
    "points_per_column = 7\n",
    "\n",
    "objp = np.zeros((points_per_column*points_per_row,3), np.float32)\n",
    "objp[:,:2] = np.mgrid[0:points_per_row,0:points_per_column].T.reshape(-1,2)\n",
    "# Arrays to store object points and image points from all the images.\n",
    "objpoints = [] # 3d point in real world space\n",
    "imgpoints = [] # 2d points in image plane.\n",
    "images = glob.glob('./fisheye_images/*.png')\n",
    "for fname in images:\n",
    "    img = cv.imread(fname)\n",
    "    gray = cv.cvtColor(img, cv.COLOR_BGR2GRAY)\n",
    "    # Find the chess board corners\n",
    "    ret, corners = cv.findChessboardCorners(gray, (points_per_row,points_per_column), None)\n",
    "    # If found, add object points, image points (after refining them)\n",
    "    if ret == True:\n",
    "        objpoints.append(objp)\n",
    "        corners2 = cv.cornerSubPix(gray,corners, (11,11), (-1,-1), criteria)\n",
    "        imgpoints.append(corners)\n",
    "        # Draw and display the corners\n",
    "        cv.drawChessboardCorners(img, (points_per_row,points_per_column), corners2, ret)\n",
    "        cv.imshow('img', img)\n",
    "        cv.waitKey(500)"
   ]
  },
  {
   "cell_type": "code",
   "execution_count": null,
   "metadata": {},
   "outputs": [],
   "source": [
    "objpoints=np.array(objpoints, dtype=np.float64)\n",
    "objpoints = np.reshape(objpoints, (N_OK, 1, points_per_row*points_per_column, 3))\n",
    "N_OK = len(objpoints)\n",
    "K = np.zeros((3, 3))\n",
    "D = np.zeros((4, 1))\n",
    "rvecs = [np.zeros((1, 1, 3), dtype=np.float64) for i in range(N_OK)]\n",
    "tvecs = [np.zeros((1, 1, 3), dtype=np.float64) for i in range(N_OK)]\n",
    "cv.destroyAllWindows()"
   ]
  },
  {
   "cell_type": "code",
   "execution_count": null,
   "metadata": {},
   "outputs": [],
   "source": [
    "print(\"K before: \", K)\n",
    "rms, _, _, _, _ = \\\n",
    "cv.fisheye.calibrate(objpoints,\n",
    "                        imgpoints, \n",
    "                        gray.shape[::-1], \n",
    "                        K, \n",
    "                        D, \n",
    "                        rvecs, \n",
    "                        tvecs,\n",
    "                        calibration_flags,\n",
    "                        (cv2.TERM_CRITERIA_EPS+cv2.TERM_CRITERIA_MAX_ITER, 30, 1e-6))\n",
    "print(\"Found \" + str(N_OK) + \" valid images for calibration\")\n",
    "print(\"K=np.array(\" + str(K.tolist()) + \")\")\n",
    "print(\"D=np.array(\" + str(D.tolist()) + \")\")"
   ]
  },
  {
   "cell_type": "code",
   "execution_count": null,
   "metadata": {},
   "outputs": [],
   "source": [
    "img = cv.imread('./fisheye_images/camera_0_jibo_capture_0.png')\n",
    "DIM = img.shape[:2]\n",
    "print(DIM)\n",
    "h,  w = img.shape[:2]\n",
    "newcameramtx, roi = cv.getOptimalNewCameraMatrix(mtx, dist, (w,h), 0, (w,h))"
   ]
  },
  {
   "cell_type": "code",
   "execution_count": null,
   "metadata": {},
   "outputs": [],
   "source": [
    "print(\"K: \", K)\n",
    "print(\"D: \", D)\n",
    "print(\"eye: \", np.eye(3))\n",
    "map1, map2 = cv.fisheye.initUndistortRectifyMap(K, D, np.eye(3), K, DIM, cv2.CV_16SC2)\n",
    "undistorted_img = cv2.remap(img, map1, map2, interpolation=cv.INTER_LINEAR, borderMode=cv.BORDER_CONSTANT)\n",
    "cv.imwrite('calibresult2.png', undistorted_img)"
   ]
  },
  {
   "cell_type": "markdown",
   "metadata": {},
   "source": [
    "## Stereo"
   ]
  },
  {
   "cell_type": "code",
   "execution_count": 5,
   "metadata": {},
   "outputs": [],
   "source": [
    "left_calibration_path = './fisheye_images/camera_0_jibo_capture_{}.png'\n",
    "right_calibration_path = './pinhole_images/camera_1_jibo_capture_{}.png'"
   ]
  },
  {
   "cell_type": "code",
   "execution_count": 7,
   "metadata": {},
   "outputs": [],
   "source": [
    "# termination criteria\n",
    "criteria = (cv.TERM_CRITERIA_EPS + cv.TERM_CRITERIA_MAX_ITER, 30, 0.001)\n",
    "# prepare object points, like (0,0,0), (1,0,0), (2,0,0) ....,(6,5,0)\n",
    "points_per_row = 7\n",
    "points_per_column = 7\n",
    "objp = np.zeros((points_per_column*points_per_row,3), np.float32)\n",
    "objp[:,:2] = np.mgrid[0:points_per_row,0:points_per_column].T.reshape(-1,2)\n",
    "# Arrays to store object points and image points from all the images.\n",
    "objpoints = [] # 3d point in real world space\n",
    "imgpointsL = [] # 2d points in Right image plane.\n",
    "imgpointsR = [] # 2d points in Left image plane.\n",
    "imagesR = glob.glob('./pinhole_images/*.png')\n",
    "imagesL = glob.glob('./fisheye_images/*.png')\n",
    "for img_id in range(len(imagesR)):\n",
    "    fnameL = left_calibration_path.format(img_id)\n",
    "    fnameR = right_calibration_path.format(img_id)\n",
    "    imgL = cv.imread(fnameL)\n",
    "    imgR = cv.imread(fnameR)\n",
    "    grayL = cv.cvtColor(imgL, cv.COLOR_BGR2GRAY)\n",
    "    grayR = cv.cvtColor(imgR, cv.COLOR_BGR2GRAY)\n",
    "    # Find the chess board corners\n",
    "    retL, cornersL = cv.findChessboardCorners(grayL, (points_per_row,points_per_column), None)\n",
    "    retR, cornersR = cv.findChessboardCorners(grayR, (points_per_row,points_per_column), None)\n",
    "    # If found on both, add object points, image points (after refining them)\n",
    "    if retL == True and retR == True:\n",
    "        objpoints.append(objp)\n",
    "        corners2L = cv.cornerSubPix(grayL,cornersL, (11,11), (-1,-1), criteria)\n",
    "        corners2R = cv.cornerSubPix(grayR,cornersR, (11,11), (-1,-1), criteria)\n",
    "        imgpointsL.append(cornersL)\n",
    "        imgpointsR.append(cornersR)\n",
    "        # Draw and display the corners\n",
    "        cv.drawChessboardCorners(imgL, (points_per_row,points_per_column), corners2L, retL)\n",
    "        cv.drawChessboardCorners(imgR, (points_per_row,points_per_column), corners2R, retR)\n",
    "        cv.imshow('img', imgL)\n",
    "        cv.waitKey(500)\n",
    "        cv.imshow('img', imgR)\n",
    "        cv.waitKey(500)\n",
    "cv.destroyAllWindows()"
   ]
  },
  {
   "cell_type": "code",
   "execution_count": 17,
   "metadata": {},
   "outputs": [
    {
     "name": "stdout",
     "output_type": "stream",
     "text": [
      "Found 20 valid images for calibration\n",
      "K=np.array([[928.8511307488417, 1.38036641948834, 625.9085651189963], [0.0, 923.1620721974828, 327.6250863531249], [0.0, 0.0, 1.0]])\n",
      "D=np.array([[-0.14009812701807317], [13.868717767731175], [-186.86952045212655], [895.3455234919691]])\n"
     ]
    }
   ],
   "source": [
    "#Fisheye calibration\n",
    "N_OK = len(objpoints)\n",
    "objpointsL=np.array(objpoints, dtype=np.float64)\n",
    "objpointsL = np.reshape(objpointsL, (N_OK, 1, points_per_row*points_per_column, 3))\n",
    "KL = np.zeros((3, 3))\n",
    "DL = np.zeros((4, 1))\n",
    "rvecsL = [np.zeros((1, 1, 3), dtype=np.float64) for i in range(N_OK)]\n",
    "tvecsL = [np.zeros((1, 1, 3), dtype=np.float64) for i in range(N_OK)]\n",
    "calibration_flags = cv.fisheye.CALIB_RECOMPUTE_EXTRINSIC\n",
    "rms, _, _, _, _ = \\\n",
    "cv.fisheye.calibrate(objpointsL,\n",
    "                        imgpointsL, \n",
    "                        grayL.shape[::-1], \n",
    "                        KL, \n",
    "                        DL, \n",
    "                        rvecsL, \n",
    "                        tvecsL,\n",
    "                        calibration_flags,\n",
    "                        (cv.TERM_CRITERIA_EPS+cv.TERM_CRITERIA_MAX_ITER, 30, 1e-6))\n",
    "print(\"Found \" + str(N_OK) + \" valid images for calibration\")\n",
    "print(\"K=np.array(\" + str(KL.tolist()) + \")\")\n",
    "print(\"D=np.array(\" + str(DL.tolist()) + \")\")"
   ]
  },
  {
   "cell_type": "code",
   "execution_count": 19,
   "metadata": {},
   "outputs": [
    {
     "name": "stdout",
     "output_type": "stream",
     "text": [
      "ret:  0.24815255257802493\n",
      "K matrix:  [[1.22924560e+03 0.00000000e+00 6.13328860e+02]\n",
      " [0.00000000e+00 1.22572138e+03 3.36227232e+02]\n",
      " [0.00000000e+00 0.00000000e+00 1.00000000e+00]]\n",
      "D distortions:  [[ 2.61443132e-01 -2.42237516e+00 -1.14390298e-03 -1.38365307e-02\n",
      "   8.99335301e+00]]\n",
      "translation vecs:  [array([[ 4.88875403],\n",
      "       [-2.13000921],\n",
      "       [23.20149881]]), array([[ 5.3900125 ],\n",
      "       [-2.06512083],\n",
      "       [23.21531531]]), array([[ 5.63937608],\n",
      "       [-1.82310004],\n",
      "       [22.72287733]]), array([[ 5.78507295],\n",
      "       [-1.63907526],\n",
      "       [22.4142013 ]]), array([[ 6.54986737],\n",
      "       [-1.81770001],\n",
      "       [23.66400455]]), array([[ 6.60864092],\n",
      "       [-1.87425301],\n",
      "       [23.73642578]]), array([[ 6.23466202],\n",
      "       [-2.00757969],\n",
      "       [24.04539336]]), array([[ 6.40374409],\n",
      "       [-1.96019044],\n",
      "       [24.12545593]]), array([[ 6.5992824 ],\n",
      "       [-1.92109183],\n",
      "       [24.06976431]]), array([[ 6.63819704],\n",
      "       [-2.00870099],\n",
      "       [24.18379193]]), array([[ 6.448399  ],\n",
      "       [-2.13733019],\n",
      "       [25.05248083]]), array([[ 5.53532137],\n",
      "       [-2.74941103],\n",
      "       [24.67642736]]), array([[ 5.65156246],\n",
      "       [-2.56907511],\n",
      "       [24.49804955]]), array([[ 5.5003937 ],\n",
      "       [-2.10842945],\n",
      "       [24.03811866]]), array([[ 5.43086074],\n",
      "       [-2.18079931],\n",
      "       [24.30306118]]), array([[ 5.12827233],\n",
      "       [-2.27153003],\n",
      "       [24.27478706]]), array([[ 5.09478063],\n",
      "       [-2.39292237],\n",
      "       [24.03855428]]), array([[ 5.0007492 ],\n",
      "       [-2.54690085],\n",
      "       [23.92971275]]), array([[ 4.72907401],\n",
      "       [-2.38697277],\n",
      "       [24.10997882]]), array([[ 5.24630443],\n",
      "       [-1.90521124],\n",
      "       [23.01847771]])]\n"
     ]
    }
   ],
   "source": [
    "#pinhole camera calibration\n",
    "#print(objpoints)\n",
    "ret, KR, DR, rvecsR, tvecsR = cv.calibrateCamera(objpoints, imgpointsR, grayR.shape[::-1], None, None)\n",
    "print(\"ret: \", ret)\n",
    "print(\"K matrix: \", KR)\n",
    "print(\"D distortions: \", DR)\n",
    "#print(\"rotation vecs: \", rvecsR)\n",
    "print(\"translation vecs: \", tvecsR)"
   ]
  },
  {
   "cell_type": "code",
   "execution_count": 58,
   "metadata": {},
   "outputs": [],
   "source": [
    "img = cv.imread(left_calibration_path.format(img_id))\n",
    "width, height = img.shape[:2]\n",
    "retval, cameraMatrix1, distCoeffs1, cameraMatrix2, distCoeffs2, R, T, E, F = \\\n",
    " cv.stereoCalibrate(objpoints, imgpointsL, imgpointsR, KL ,DL, KR, DR, (width, height),\n",
    "                                R=R,\n",
    "                                T=T,\n",
    "                                E=E,\n",
    "                                F=F,\n",
    "                                flags=cv.CALIB_FIX_INTRINSIC\n",
    "                   )"
   ]
  },
  {
   "cell_type": "code",
   "execution_count": 60,
   "metadata": {},
   "outputs": [
    {
     "name": "stdout",
     "output_type": "stream",
     "text": [
      "cameraM1:  [[928.85113075   1.38036642 625.90856512]\n",
      " [  0.         923.1620722  327.62508635]\n",
      " [  0.           0.           1.        ]]\n",
      "distCoeffs1:  [[-1.40098127e-01]\n",
      " [ 1.38687178e+01]\n",
      " [-1.86869520e+02]\n",
      " [ 8.95345523e+02]\n",
      " [ 0.00000000e+00]]\n",
      "cameraM1:  [[1.22924560e+03 0.00000000e+00 6.13328860e+02]\n",
      " [0.00000000e+00 1.22572138e+03 3.36227232e+02]\n",
      " [0.00000000e+00 0.00000000e+00 1.00000000e+00]]\n",
      "distCoeffs1:  [[ 2.61443132e-01 -2.42237516e+00 -1.14390298e-03 -1.38365307e-02\n",
      "   8.99335301e+00]]\n",
      "R:  [[ 0.86465714 -0.44321154 -0.23649853]\n",
      " [ 0.48025733  0.59116801  0.6479763 ]\n",
      " [-0.14738021 -0.67385749  0.72401323]]\n",
      "T:  [[ 3.05444374]\n",
      " [ 1.33497937]\n",
      " [23.35061799]]\n",
      "E:  [[-11.41105491 -14.70372412 -14.1641044 ]\n",
      " [ 20.64044319  -8.29100365  -7.7338445 ]\n",
      " [  0.31261954   2.39736768   2.29492782]]\n",
      "F:  [[-1.42973230e-06 -1.85149811e-06 -1.46927003e-04]\n",
      " [ 2.59355136e-06 -1.05209480e-06 -2.18127920e-03]\n",
      " [ 5.30220913e-05  1.86075806e-03  1.00000000e+00]]\n"
     ]
    }
   ],
   "source": [
    "print(\"cameraM1: \", cameraMatrix1)\n",
    "print(\"distCoeffs1: \", distCoeffs1)\n",
    "print(\"cameraM1: \", cameraMatrix2)\n",
    "print(\"distCoeffs1: \", distCoeffs2)\n",
    "print(\"R: \", R)\n",
    "print(\"T: \", T)\n",
    "print(\"E: \", E)\n",
    "print(\"F: \", F)"
   ]
  },
  {
   "cell_type": "markdown",
   "metadata": {},
   "source": [
    "#### Perform image rectification"
   ]
  },
  {
   "cell_type": "code",
   "execution_count": 67,
   "metadata": {},
   "outputs": [
    {
     "name": "stdout",
     "output_type": "stream",
     "text": [
      "(720, 1280)\n"
     ]
    }
   ],
   "source": [
    "img_id = 1\n",
    "\n",
    "imgL = cv.imread('./fisheye_images/camera_0_jibo_capture_{}.png'.format(img_id))\n",
    "imgR = cv.imread('./pinhole_images/camera_1_jibo_capture_{}.png'.format(img_id))\n",
    "img_size = imgL.shape[:2]\n",
    "print(img_size)\n",
    "\n",
    "R1 = np.zeros(shape=(3,3))\n",
    "R2 = np.zeros(shape=(3,3))\n",
    "P1 = np.zeros(shape=(3,4))\n",
    "P2 = np.zeros(shape=(3,4))\n",
    "\n",
    "out = cv.stereoRectify(KL, DL, KR, DR, (width, height), R=R, T=T, \n",
    "                       R1=R1, R2=R2, P1=P1, P2=P2,\n",
    "                      Q=None, flags=cv.CALIB_ZERO_DISPARITY, alpha=-1, newImageSize=(0,0))\n",
    "\n"
   ]
  },
  {
   "cell_type": "code",
   "execution_count": 69,
   "metadata": {},
   "outputs": [
    {
     "data": {
      "text/plain": [
       "(array([[ 0.98708994, -0.1202754 , -0.10576994],\n",
       "        [ 0.00675103,  0.69102953, -0.722795  ],\n",
       "        [ 0.16002461,  0.71274962,  0.68292028]]),\n",
       " array([[ 0.93181625,  0.33441779, -0.14100788],\n",
       "        [-0.12949498, -0.05659726, -0.98996353],\n",
       "        [-0.33904208,  0.94072392, -0.00943282]]),\n",
       " array([[1.07904837e+03, 0.00000000e+00, 9.17322422e+02, 0.00000000e+00],\n",
       "        [0.00000000e+00, 1.07904837e+03, 2.13618393e+02, 0.00000000e+00],\n",
       "        [0.00000000e+00, 0.00000000e+00, 1.00000000e+00, 0.00000000e+00]]),\n",
       " array([[ 1.07904837e+03,  0.00000000e+00,  9.17322422e+02,\n",
       "          0.00000000e+00],\n",
       "        [ 0.00000000e+00,  1.07904837e+03,  2.13618393e+02,\n",
       "         -2.54518932e+04],\n",
       "        [ 0.00000000e+00,  0.00000000e+00,  1.00000000e+00,\n",
       "          0.00000000e+00]]),\n",
       " array([[ 1.00000000e+00,  0.00000000e+00,  0.00000000e+00,\n",
       "         -9.17322422e+02],\n",
       "        [ 0.00000000e+00,  1.00000000e+00,  0.00000000e+00,\n",
       "         -2.13618393e+02],\n",
       "        [ 0.00000000e+00,  0.00000000e+00,  0.00000000e+00,\n",
       "          1.07904837e+03],\n",
       "        [ 0.00000000e+00,  0.00000000e+00,  4.23956032e-02,\n",
       "         -0.00000000e+00]]),\n",
       " (0, 0, 0, 0),\n",
       " (0, 0, 0, 0))"
      ]
     },
     "execution_count": 69,
     "metadata": {},
     "output_type": "execute_result"
    }
   ],
   "source": [
    "out"
   ]
  },
  {
   "cell_type": "code",
   "execution_count": 72,
   "metadata": {},
   "outputs": [
    {
     "name": "stdout",
     "output_type": "stream",
     "text": [
      "R1:  [[ 0.98708994 -0.1202754  -0.10576994]\n",
      " [ 0.00675103  0.69102953 -0.722795  ]\n",
      " [ 0.16002461  0.71274962  0.68292028]]\n",
      "R2:  [[ 0.93181625  0.33441779 -0.14100788]\n",
      " [-0.12949498 -0.05659726 -0.98996353]\n",
      " [-0.33904208  0.94072392 -0.00943282]]\n",
      "P1:  [[1.07904837e+03 0.00000000e+00 9.17322422e+02 0.00000000e+00]\n",
      " [0.00000000e+00 1.07904837e+03 2.13618393e+02 0.00000000e+00]\n",
      " [0.00000000e+00 0.00000000e+00 1.00000000e+00 0.00000000e+00]]\n",
      "P2:  [[ 1.07904837e+03  0.00000000e+00  9.17322422e+02  0.00000000e+00]\n",
      " [ 0.00000000e+00  1.07904837e+03  2.13618393e+02 -2.54518932e+04]\n",
      " [ 0.00000000e+00  0.00000000e+00  1.00000000e+00  0.00000000e+00]]\n"
     ]
    },
    {
     "ename": "NameError",
     "evalue": "name 'Q' is not defined",
     "output_type": "error",
     "traceback": [
      "\u001b[0;31m---------------------------------------------------------------------------\u001b[0m",
      "\u001b[0;31mNameError\u001b[0m                                 Traceback (most recent call last)",
      "\u001b[0;32m<ipython-input-72-02c9ec561001>\u001b[0m in \u001b[0;36m<module>\u001b[0;34m\u001b[0m\n\u001b[1;32m      3\u001b[0m \u001b[0mprint\u001b[0m\u001b[0;34m(\u001b[0m\u001b[0;34m\"P1: \"\u001b[0m\u001b[0;34m,\u001b[0m \u001b[0mP1\u001b[0m\u001b[0;34m)\u001b[0m\u001b[0;34m\u001b[0m\u001b[0;34m\u001b[0m\u001b[0m\n\u001b[1;32m      4\u001b[0m \u001b[0mprint\u001b[0m\u001b[0;34m(\u001b[0m\u001b[0;34m\"P2: \"\u001b[0m\u001b[0;34m,\u001b[0m \u001b[0mP2\u001b[0m\u001b[0;34m)\u001b[0m\u001b[0;34m\u001b[0m\u001b[0;34m\u001b[0m\u001b[0m\n\u001b[0;32m----> 5\u001b[0;31m \u001b[0mprint\u001b[0m\u001b[0;34m(\u001b[0m\u001b[0;34m\"Q: \"\u001b[0m\u001b[0;34m,\u001b[0m \u001b[0mQ\u001b[0m\u001b[0;34m)\u001b[0m\u001b[0;34m\u001b[0m\u001b[0;34m\u001b[0m\u001b[0m\n\u001b[0m",
      "\u001b[0;31mNameError\u001b[0m: name 'Q' is not defined"
     ]
    }
   ],
   "source": [
    "print(\"R1: \", R1)\n",
    "print(\"R2: \", R2)\n",
    "print(\"P1: \", P1)\n",
    "print(\"P2: \", P2)"
   ]
  },
  {
   "cell_type": "code",
   "execution_count": 85,
   "metadata": {},
   "outputs": [
    {
     "name": "stdout",
     "output_type": "stream",
     "text": [
      "Applying Undistort\n",
      "\n",
      "Undistort complete\n",
      "\n",
      "fname:  ./fisheye_images/camera_0_jibo_capture_0.png ./pinhole_images/camera_1_jibo_capture_0.png\n",
      "fname:  ./fisheye_images/camera_0_jibo_capture_1.png ./pinhole_images/camera_1_jibo_capture_1.png\n",
      "fname:  ./fisheye_images/camera_0_jibo_capture_2.png ./pinhole_images/camera_1_jibo_capture_2.png\n",
      "fname:  ./fisheye_images/camera_0_jibo_capture_3.png ./pinhole_images/camera_1_jibo_capture_3.png\n",
      "fname:  ./fisheye_images/camera_0_jibo_capture_4.png ./pinhole_images/camera_1_jibo_capture_4.png\n",
      "fname:  ./fisheye_images/camera_0_jibo_capture_5.png ./pinhole_images/camera_1_jibo_capture_5.png\n",
      "fname:  ./fisheye_images/camera_0_jibo_capture_6.png ./pinhole_images/camera_1_jibo_capture_6.png\n",
      "fname:  ./fisheye_images/camera_0_jibo_capture_7.png ./pinhole_images/camera_1_jibo_capture_7.png\n",
      "fname:  ./fisheye_images/camera_0_jibo_capture_8.png ./pinhole_images/camera_1_jibo_capture_8.png\n",
      "fname:  ./fisheye_images/camera_0_jibo_capture_9.png ./pinhole_images/camera_1_jibo_capture_9.png\n",
      "fname:  ./fisheye_images/camera_0_jibo_capture_10.png ./pinhole_images/camera_1_jibo_capture_10.png\n",
      "fname:  ./fisheye_images/camera_0_jibo_capture_11.png ./pinhole_images/camera_1_jibo_capture_11.png\n",
      "fname:  ./fisheye_images/camera_0_jibo_capture_12.png ./pinhole_images/camera_1_jibo_capture_12.png\n",
      "fname:  ./fisheye_images/camera_0_jibo_capture_13.png ./pinhole_images/camera_1_jibo_capture_13.png\n",
      "fname:  ./fisheye_images/camera_0_jibo_capture_14.png ./pinhole_images/camera_1_jibo_capture_14.png\n",
      "fname:  ./fisheye_images/camera_0_jibo_capture_15.png ./pinhole_images/camera_1_jibo_capture_15.png\n",
      "fname:  ./fisheye_images/camera_0_jibo_capture_16.png ./pinhole_images/camera_1_jibo_capture_16.png\n",
      "fname:  ./fisheye_images/camera_0_jibo_capture_17.png ./pinhole_images/camera_1_jibo_capture_17.png\n",
      "fname:  ./fisheye_images/camera_0_jibo_capture_18.png ./pinhole_images/camera_1_jibo_capture_18.png\n",
      "fname:  ./fisheye_images/camera_0_jibo_capture_19.png ./pinhole_images/camera_1_jibo_capture_19.png\n"
     ]
    }
   ],
   "source": [
    "print(\"Applying Undistort\\n\")\n",
    "map1x, map1y = cv.initUndistortRectifyMap(KL, DL, R1, P1, (width, height), cv.CV_32FC1)\n",
    "map2x, map2y = cv.initUndistortRectifyMap(KR, DR, R2, P2, (width, height), cv.CV_32FC1)\n",
    "\n",
    "print(\"Undistort complete\\n\")\n",
    "\n",
    "for img_id in range(len(imagesR)):\n",
    "    fnameL = left_calibration_path.format(img_id)\n",
    "    fnameR = right_calibration_path.format(img_id)\n",
    "    print(\"fname: \", fnameL, fnameR)\n",
    "    imgL = cv.imread(fnameL)\n",
    "    imgR = cv.imread(fnameR)\n",
    "    imgU1 = np.zeros((height,width,3), np.uint8)\n",
    "    imgU1 = cv.remap(imgL, map1x, map1y, cv.INTER_LINEAR, imgU1, cv.BORDER_CONSTANT, 0)\n",
    "    imgU2 = cv.remap(imgR, map2x, map2y, cv.INTER_LINEAR)\n",
    "    cv.imshow(\"imageL\", imgL);\n",
    "    cv.imshow(\"imageR\", imgR);\n",
    "    cv.imshow(\"image1L\", imgU1);\n",
    "    cv.imshow(\"image2R\", imgU2);\n",
    "    k = cv.waitKey(5);\n",
    "    if(k==27):\n",
    "        break;"
   ]
  },
  {
   "cell_type": "code",
   "execution_count": 86,
   "metadata": {},
   "outputs": [],
   "source": [
    "cv.destroyAllWindows()"
   ]
  }
 ],
 "metadata": {
  "kernelspec": {
   "display_name": "Python 3",
   "language": "python",
   "name": "python3"
  },
  "language_info": {
   "codemirror_mode": {
    "name": "ipython",
    "version": 3
   },
   "file_extension": ".py",
   "mimetype": "text/x-python",
   "name": "python",
   "nbconvert_exporter": "python",
   "pygments_lexer": "ipython3",
   "version": "3.7.5"
  }
 },
 "nbformat": 4,
 "nbformat_minor": 2
}
