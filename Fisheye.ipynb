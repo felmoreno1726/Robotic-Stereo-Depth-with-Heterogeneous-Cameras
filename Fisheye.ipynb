{
 "cells": [
  {
   "cell_type": "code",
   "execution_count": 56,
   "metadata": {},
   "outputs": [
    {
     "name": "stdout",
     "output_type": "stream",
     "text": [
      "Current version of openCV= 4.1.1\n"
     ]
    }
   ],
   "source": [
    "import cv2\n",
    "print(\"Current version of openCV=\", cv2.__version__)\n",
    "import numpy as np\n",
    "import os\n",
    "import glob"
   ]
  },
  {
   "cell_type": "code",
   "execution_count": 57,
   "metadata": {},
   "outputs": [],
   "source": [
    "left_calibration_path = './calibration/fisheye/{}.png'"
   ]
  },
  {
   "cell_type": "code",
   "execution_count": 58,
   "metadata": {},
   "outputs": [
    {
     "name": "stdout",
     "output_type": "stream",
     "text": [
      "./calibration/fisheye/3.png\n",
      "./calibration/fisheye/21.png\n",
      "./calibration/fisheye/19.png\n",
      "./calibration/fisheye/12.png\n",
      "./calibration/fisheye/0.png\n",
      "./calibration/fisheye/20.png\n",
      "./calibration/fisheye/13.png\n",
      "./calibration/fisheye/14.png\n",
      "./calibration/fisheye/16.png\n",
      "./calibration/fisheye/10.png\n",
      "./calibration/fisheye/27.png\n",
      "./calibration/fisheye/23.png\n",
      "./calibration/fisheye/28.png\n",
      "./calibration/fisheye/15.png\n",
      "./calibration/fisheye/1.png\n",
      "./calibration/fisheye/2.png\n",
      "./calibration/fisheye/5.png\n",
      "./calibration/fisheye/7.png\n",
      "./calibration/fisheye/26.png\n",
      "./calibration/fisheye/25.png\n",
      "./calibration/fisheye/4.png\n",
      "./calibration/fisheye/11.png\n",
      "./calibration/fisheye/6.png\n",
      "./calibration/fisheye/24.png\n",
      "./calibration/fisheye/8.png\n",
      "./calibration/fisheye/18.png\n",
      "./calibration/fisheye/17.png\n",
      "./calibration/fisheye/9.png\n",
      "./calibration/fisheye/29.png\n",
      "./calibration/fisheye/22.png\n"
     ]
    },
    {
     "ename": "error",
     "evalue": "OpenCV(4.1.1) /io/opencv/modules/calib3d/src/fisheye.cpp:1421: error: (-3:Internal error) CALIB_CHECK_COND - Ill-conditioned matrix for input array 3 in function 'CalibrateExtrinsics'\n",
     "output_type": "error",
     "traceback": [
      "\u001b[0;31m---------------------------------------------------------------------------\u001b[0m",
      "\u001b[0;31merror\u001b[0m                                     Traceback (most recent call last)",
      "\u001b[0;32m<ipython-input-58-489e9dec88b5>\u001b[0m in \u001b[0;36m<module>\u001b[0;34m\u001b[0m\n\u001b[1;32m     42\u001b[0m         \u001b[0mtvecs\u001b[0m\u001b[0;34m,\u001b[0m\u001b[0;34m\u001b[0m\u001b[0;34m\u001b[0m\u001b[0m\n\u001b[1;32m     43\u001b[0m         \u001b[0mcalibration_flags\u001b[0m\u001b[0;34m,\u001b[0m\u001b[0;34m\u001b[0m\u001b[0;34m\u001b[0m\u001b[0m\n\u001b[0;32m---> 44\u001b[0;31m         \u001b[0;34m(\u001b[0m\u001b[0mcv2\u001b[0m\u001b[0;34m.\u001b[0m\u001b[0mTERM_CRITERIA_EPS\u001b[0m\u001b[0;34m+\u001b[0m\u001b[0mcv2\u001b[0m\u001b[0;34m.\u001b[0m\u001b[0mTERM_CRITERIA_MAX_ITER\u001b[0m\u001b[0;34m,\u001b[0m \u001b[0;36m30\u001b[0m\u001b[0;34m,\u001b[0m \u001b[0;36m1e-6\u001b[0m\u001b[0;34m)\u001b[0m\u001b[0;34m\u001b[0m\u001b[0;34m\u001b[0m\u001b[0m\n\u001b[0m\u001b[1;32m     45\u001b[0m     )\n\u001b[1;32m     46\u001b[0m \u001b[0mDIM\u001b[0m \u001b[0;34m=\u001b[0m \u001b[0m_img_shape\u001b[0m\u001b[0;34m[\u001b[0m\u001b[0;34m:\u001b[0m\u001b[0;34m:\u001b[0m\u001b[0;34m-\u001b[0m\u001b[0;36m1\u001b[0m\u001b[0;34m]\u001b[0m\u001b[0;34m\u001b[0m\u001b[0;34m\u001b[0m\u001b[0m\n",
      "\u001b[0;31merror\u001b[0m: OpenCV(4.1.1) /io/opencv/modules/calib3d/src/fisheye.cpp:1421: error: (-3:Internal error) CALIB_CHECK_COND - Ill-conditioned matrix for input array 3 in function 'CalibrateExtrinsics'\n"
     ]
    }
   ],
   "source": [
    "CHECKERBOARD = (7,7)\n",
    "subpix_criteria = (cv2.TERM_CRITERIA_EPS+cv2.TERM_CRITERIA_MAX_ITER, 30, 0.1)\n",
    "calibration_flags = cv2.fisheye.CALIB_RECOMPUTE_EXTRINSIC+ \\\n",
    "cv2.fisheye.CALIB_CHECK_COND+\\\n",
    "cv2.fisheye.CALIB_FIX_SKEW\n",
    "\n",
    "cv2.fisheye\n",
    "objp = np.zeros((1, CHECKERBOARD[0]*CHECKERBOARD[1], 3), np.float32)\n",
    "objp[0,:,:2] = np.mgrid[0:CHECKERBOARD[0], 0:CHECKERBOARD[1]].T.reshape(-1, 2)\n",
    "_img_shape = None\n",
    "objpoints = [] # 3d point in real world space\n",
    "imgpoints = [] # 2d points in image plane.\n",
    "images = glob.glob('./calibration/fisheye/*.png')\n",
    "for fname in images:\n",
    "    print(fname)\n",
    "    img = cv2.imread(fname)\n",
    "    if _img_shape == None:\n",
    "        _img_shape = img.shape[:2]\n",
    "    else:\n",
    "        assert _img_shape == img.shape[:2], \"All images must share the same size.\"    \n",
    "    gray = cv2.cvtColor(img,cv2.COLOR_BGR2GRAY)\n",
    "    # Find the chess board corners\n",
    "    ret, corners = cv2.findChessboardCorners(gray, CHECKERBOARD, cv2.CALIB_CB_ADAPTIVE_THRESH+cv2.CALIB_CB_FAST_CHECK+cv2.CALIB_CB_NORMALIZE_IMAGE)\n",
    "    # If found, add object points, image points (after refining them)\n",
    "    if ret == True:\n",
    "        objpoints.append(objp)\n",
    "        cv2.cornerSubPix(gray,corners,(3,3),(-1,-1),subpix_criteria)\n",
    "        imgpoints.append(corners)\n",
    "N_OK = len(objpoints)\n",
    "K = np.zeros((3, 3))\n",
    "D = np.zeros((4, 1))\n",
    "rvecs = [np.zeros((1, 1, 3), dtype=np.float64) for i in range(N_OK)]\n",
    "tvecs = [np.zeros((1, 1, 3), dtype=np.float64) for i in range(N_OK)]\n",
    "rms, _, _, _, _ = \\\n",
    "    cv2.fisheye.calibrate(\n",
    "        objpoints,\n",
    "        imgpoints,\n",
    "        gray.shape[::-1],\n",
    "        K,\n",
    "        D,\n",
    "        rvecs,\n",
    "        tvecs,\n",
    "        calibration_flags,\n",
    "        (cv2.TERM_CRITERIA_EPS+cv2.TERM_CRITERIA_MAX_ITER, 30, 1e-6)\n",
    "    )\n",
    "DIM = _img_shape[::-1]\n",
    "print(\"Found \" + str(N_OK) + \" valid images for calibration\")\n",
    "print(\"K=np.array(\" + str(K.tolist()) + \")\")\n",
    "print(\"D=np.array(\" + str(D.tolist()) + \")\")"
   ]
  },
  {
   "cell_type": "code",
   "execution_count": null,
   "metadata": {},
   "outputs": [],
   "source": [
    "img_path = \"./calibration/fisheye/{}.png\"\n",
    "dst = \"./calibration/fisheye_calibrated/{}.png\"\n",
    "for img_id in range(len(images)):\n",
    "    img = cv2.imread(img_path.format(img_id))\n",
    "    h,w = img.shape[:2]\n",
    "    map1, map2 = cv2.fisheye.initUndistortRectifyMap(K, D, np.eye(3), K, DIM, cv2.CV_16SC2)\n",
    "    undistorted_img = cv2.remap(img, map1, map2, interpolation=cv2.INTER_LINEAR, borderMode=cv2.BORDER_CONSTANT)\n",
    "    cv2.imshow(\"undistorted\", undistorted_img)\n",
    "    cv.imwrite(dst.format(img_id), undistorted_img)\n",
    "    cv2.waitKey(500)\n",
    "#cv2.destroyAllWindows()"
   ]
  },
  {
   "cell_type": "code",
   "execution_count": null,
   "metadata": {},
   "outputs": [],
   "source": [
    "cv2.destroyAllWindows()\n"
   ]
  }
 ],
 "metadata": {
  "kernelspec": {
   "display_name": "Python 3",
   "language": "python",
   "name": "python3"
  },
  "language_info": {
   "codemirror_mode": {
    "name": "ipython",
    "version": 3
   },
   "file_extension": ".py",
   "mimetype": "text/x-python",
   "name": "python",
   "nbconvert_exporter": "python",
   "pygments_lexer": "ipython3",
   "version": "3.7.5"
  }
 },
 "nbformat": 4,
 "nbformat_minor": 2
}
